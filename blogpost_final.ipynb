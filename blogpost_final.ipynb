{
  "cells": [
    {
      "cell_type": "markdown",
      "metadata": {
        "application/vnd.databricks.v1+cell": {
          "cellMetadata": {
            "byteLimit": 2048000,
            "rowLimit": 10000
          },
          "inputWidgets": {},
          "nuid": "2f7100f5-907d-4c0b-9bc5-bc8359c74273",
          "showTitle": false,
          "title": ""
        },
        "id": "GdcIeLCdIqEu"
      },
      "source": [
        "## You.com x LangChain\n",
        "\n",
        "### YouRetriever\n",
        "Today we are excited to announce the release of `YouRetriever`, the easiest way to get access to the You.com Search API. The You.com Search API is designed by LLMs for LLMs with an emphasis on Retrieval Augmented Generation (RAG) applications. We accomplish this by evaluating our API on a number of datasets to benchmark performance of LLMs in the RAG-QA setting. In this blog post we will compare and contrast the You.com Search API with the Google Search API as well as give the reader the tools to evaluate LLMs in the RAG-QA setting. We will evaluate our retriever performance on [Hotpot QA](https://github.com/hotpotqa/hotpot) using the `RetrievalQA` Chain. Hotpot is a dataset which is comprised of a question, answer, and context. The context can vary in relevance to the question/answer with a special \"distractor\" setting where the LLM needs to not be distracted by certain misleading text within the context. In this experiment we will be removing the context from the dataset and replacing it with text snippets which come back from the search APIs. In this sense the entire internet is the distractor text since the APIs are responsible for finding the answer to the question across the entire internet not just within the list of snippets supplied in the dataset. We call this the \"web distractor\" setting for evaluating search APIs with respect to their performance being used in conjunction with an LLM."
      ]
    },
    {
      "cell_type": "code",
      "execution_count": 1,
      "metadata": {
        "application/vnd.databricks.v1+cell": {
          "cellMetadata": {
            "byteLimit": 2048000,
            "rowLimit": 10000
          },
          "inputWidgets": {},
          "nuid": "0852b222-8a4d-46ad-91b8-00167c497b1e",
          "showTitle": false,
          "title": ""
        },
        "id": "pYQmtH1HIqEw",
        "outputId": "8ca45166-9e7d-4666-a2f3-d055db79b2da",
        "colab": {
          "base_uri": "https://localhost:8080/"
        }
      },
      "outputs": [
        {
          "output_type": "stream",
          "name": "stdout",
          "text": [
            "\u001b[2K     \u001b[90m━━━━━━━━━━━━━━━━━━━━━━━━━━━━━━━━━━━━━━━━\u001b[0m \u001b[32m1.9/1.9 MB\u001b[0m \u001b[31m19.1 MB/s\u001b[0m eta \u001b[36m0:00:00\u001b[0m\n",
            "\u001b[2K     \u001b[90m━━━━━━━━━━━━━━━━━━━━━━━━━━━━━━━━━━━━━━━━\u001b[0m \u001b[32m547.8/547.8 kB\u001b[0m \u001b[31m23.7 MB/s\u001b[0m eta \u001b[36m0:00:00\u001b[0m\n",
            "\u001b[2K     \u001b[90m━━━━━━━━━━━━━━━━━━━━━━━━━━━━━━━━━━━━━━━━\u001b[0m \u001b[32m70.3/70.3 kB\u001b[0m \u001b[31m6.2 MB/s\u001b[0m eta \u001b[36m0:00:00\u001b[0m\n",
            "\u001b[2K     \u001b[90m━━━━━━━━━━━━━━━━━━━━━━━━━━━━━━━━━━━━━━━━\u001b[0m \u001b[32m1.1/1.1 MB\u001b[0m \u001b[31m47.6 MB/s\u001b[0m eta \u001b[36m0:00:00\u001b[0m\n",
            "\u001b[2K     \u001b[90m━━━━━━━━━━━━━━━━━━━━━━━━━━━━━━━━━━━━━━━━\u001b[0m \u001b[32m56.5/56.5 kB\u001b[0m \u001b[31m4.1 MB/s\u001b[0m eta \u001b[36m0:00:00\u001b[0m\n",
            "\u001b[2K     \u001b[90m━━━━━━━━━━━━━━━━━━━━━━━━━━━━━━━━━━━━━━━━\u001b[0m \u001b[32m40.8/40.8 MB\u001b[0m \u001b[31m17.2 MB/s\u001b[0m eta \u001b[36m0:00:00\u001b[0m\n",
            "\u001b[2K     \u001b[90m━━━━━━━━━━━━━━━━━━━━━━━━━━━━━━━━━━━━━━━━\u001b[0m \u001b[32m116.3/116.3 kB\u001b[0m \u001b[31m12.6 MB/s\u001b[0m eta \u001b[36m0:00:00\u001b[0m\n",
            "\u001b[2K     \u001b[90m━━━━━━━━━━━━━━━━━━━━━━━━━━━━━━━━━━━━━━━━\u001b[0m \u001b[32m64.9/64.9 kB\u001b[0m \u001b[31m6.1 MB/s\u001b[0m eta \u001b[36m0:00:00\u001b[0m\n",
            "\u001b[2K     \u001b[90m━━━━━━━━━━━━━━━━━━━━━━━━━━━━━━━━━━━━━━━━\u001b[0m \u001b[32m194.1/194.1 kB\u001b[0m \u001b[31m12.8 MB/s\u001b[0m eta \u001b[36m0:00:00\u001b[0m\n",
            "\u001b[2K     \u001b[90m━━━━━━━━━━━━━━━━━━━━━━━━━━━━━━━━━━━━━━━━\u001b[0m \u001b[32m134.8/134.8 kB\u001b[0m \u001b[31m16.3 MB/s\u001b[0m eta \u001b[36m0:00:00\u001b[0m\n",
            "\u001b[2K     \u001b[90m━━━━━━━━━━━━━━━━━━━━━━━━━━━━━━━━━━━━━━━━\u001b[0m \u001b[32m49.2/49.2 kB\u001b[0m \u001b[31m4.8 MB/s\u001b[0m eta \u001b[36m0:00:00\u001b[0m\n",
            "\u001b[?25h\u001b[31mERROR: pip's dependency resolver does not currently take into account all the packages that are installed. This behaviour is the source of the following dependency conflicts.\n",
            "cudf-cu12 24.4.1 requires pyarrow<15.0.0a0,>=14.0.1, but you have pyarrow 16.1.0 which is incompatible.\n",
            "google-colab 1.0.0 requires requests==2.31.0, but you have requests 2.32.3 which is incompatible.\n",
            "ibis-framework 8.0.0 requires pyarrow<16,>=2, but you have pyarrow 16.1.0 which is incompatible.\u001b[0m\u001b[31m\n",
            "\u001b[0m"
          ]
        }
      ],
      "source": [
        "pip install -q langchain==0.0.314 datasets google-api-python-client openai==0.27.4 tiktoken"
      ]
    },
    {
      "cell_type": "markdown",
      "metadata": {
        "application/vnd.databricks.v1+cell": {
          "cellMetadata": {
            "byteLimit": 2048000,
            "rowLimit": 10000
          },
          "inputWidgets": {},
          "nuid": "09a7227f-e821-4a0c-ac0c-e845c2fb3edf",
          "showTitle": false,
          "title": ""
        },
        "id": "hVo3U2KLIqEx"
      },
      "source": [
        "### Initialization\n",
        "All you need to initialize a `YouRetriever` is to set the environment variable `YDC_API_KEY`. We are currently in an alpha status and keys are available by invitation only. If you are interested in being an early access partner please email api@you.com with your usecase, background, and expected daily load. You will also need an OpenAI key along with credentials to the Google Search API to run the rest of the notebook."
      ]
    },
    {
      "cell_type": "code",
      "execution_count": null,
      "metadata": {
        "application/vnd.databricks.v1+cell": {
          "cellMetadata": {
            "byteLimit": 2048000,
            "rowLimit": 10000
          },
          "inputWidgets": {},
          "nuid": "662237eb-81de-4469-a10d-4fe7aa27ebe3",
          "showTitle": false,
          "title": ""
        },
        "id": "KS3zfXbDIqEx"
      },
      "outputs": [],
      "source": [
        "import os\n",
        "\n",
        "\n",
        "os.environ[\"YDC_API_KEY\"] = \"\"\n",
        "os.environ[\"OPENAI_API_KEY\"] = \"\"\n",
        "os.environ[\"GOOGLE_CSE_ID\"] = \"\"\n",
        "os.environ[\"GOOGLE_API_KEY\"] = \"\""
      ]
    },
    {
      "cell_type": "code",
      "source": [
        "%pip install duckduckgo-search"
      ],
      "metadata": {
        "id": "5Oi2uzVGLw0D",
        "outputId": "2bc0b11a-6bf4-44f8-f4b2-efdb6f8fad3b",
        "colab": {
          "base_uri": "https://localhost:8080/"
        }
      },
      "execution_count": 4,
      "outputs": [
        {
          "output_type": "stream",
          "name": "stdout",
          "text": [
            "Collecting duckduckgo-search\n",
            "  Downloading duckduckgo_search-6.1.6-py3-none-any.whl (24 kB)\n",
            "Requirement already satisfied: click>=8.1.7 in /usr/local/lib/python3.10/dist-packages (from duckduckgo-search) (8.1.7)\n",
            "Collecting pyreqwest-impersonate>=0.4.7 (from duckduckgo-search)\n",
            "  Downloading pyreqwest_impersonate-0.4.7-cp310-cp310-manylinux_2_17_x86_64.manylinux2014_x86_64.whl (2.7 MB)\n",
            "\u001b[2K     \u001b[90m━━━━━━━━━━━━━━━━━━━━━━━━━━━━━━━━━━━━━━━━\u001b[0m \u001b[32m2.7/2.7 MB\u001b[0m \u001b[31m29.2 MB/s\u001b[0m eta \u001b[36m0:00:00\u001b[0m\n",
            "\u001b[?25hCollecting orjson>=3.10.4 (from duckduckgo-search)\n",
            "  Downloading orjson-3.10.5-cp310-cp310-manylinux_2_17_x86_64.manylinux2014_x86_64.whl (144 kB)\n",
            "\u001b[2K     \u001b[90m━━━━━━━━━━━━━━━━━━━━━━━━━━━━━━━━━━━━━━━━\u001b[0m \u001b[32m145.0/145.0 kB\u001b[0m \u001b[31m14.5 MB/s\u001b[0m eta \u001b[36m0:00:00\u001b[0m\n",
            "\u001b[?25hInstalling collected packages: pyreqwest-impersonate, orjson, duckduckgo-search\n",
            "Successfully installed duckduckgo-search-6.1.6 orjson-3.10.5 pyreqwest-impersonate-0.4.7\n"
          ]
        }
      ]
    },
    {
      "cell_type": "code",
      "execution_count": 3,
      "metadata": {
        "id": "nCjNLSJvIqEy",
        "outputId": "dec0630f-9c12-4321-c786-678d5696f022",
        "colab": {
          "base_uri": "https://localhost:8080/",
          "height": 359
        }
      },
      "outputs": [
        {
          "output_type": "error",
          "ename": "ValidationError",
          "evalue": "1 validation error for GoogleSearchAPIWrapper\n__root__\n  Did not find google_api_key, please add an environment variable `GOOGLE_API_KEY` which contains it, or pass  `google_api_key` as a named parameter. (type=value_error)",
          "traceback": [
            "\u001b[0;31m---------------------------------------------------------------------------\u001b[0m",
            "\u001b[0;31mValidationError\u001b[0m                           Traceback (most recent call last)",
            "\u001b[0;32m<ipython-input-3-d4e570d5862b>\u001b[0m in \u001b[0;36m<cell line: 4>\u001b[0;34m()\u001b[0m\n\u001b[1;32m      2\u001b[0m \u001b[0;34m\u001b[0m\u001b[0m\n\u001b[1;32m      3\u001b[0m \u001b[0;34m\u001b[0m\u001b[0m\n\u001b[0;32m----> 4\u001b[0;31m \u001b[0myr\u001b[0m \u001b[0;34m=\u001b[0m \u001b[0mGoogleSearchAPIWrapper\u001b[0m\u001b[0;34m(\u001b[0m\u001b[0;34m)\u001b[0m \u001b[0;31m#YouRetriever()\u001b[0m\u001b[0;34m\u001b[0m\u001b[0;34m\u001b[0m\u001b[0m\n\u001b[0m",
            "\u001b[0;32m/usr/local/lib/python3.10/dist-packages/pydantic/v1/main.py\u001b[0m in \u001b[0;36m__init__\u001b[0;34m(__pydantic_self__, **data)\u001b[0m\n\u001b[1;32m    339\u001b[0m         \u001b[0mvalues\u001b[0m\u001b[0;34m,\u001b[0m \u001b[0mfields_set\u001b[0m\u001b[0;34m,\u001b[0m \u001b[0mvalidation_error\u001b[0m \u001b[0;34m=\u001b[0m \u001b[0mvalidate_model\u001b[0m\u001b[0;34m(\u001b[0m\u001b[0m__pydantic_self__\u001b[0m\u001b[0;34m.\u001b[0m\u001b[0m__class__\u001b[0m\u001b[0;34m,\u001b[0m \u001b[0mdata\u001b[0m\u001b[0;34m)\u001b[0m\u001b[0;34m\u001b[0m\u001b[0;34m\u001b[0m\u001b[0m\n\u001b[1;32m    340\u001b[0m         \u001b[0;32mif\u001b[0m \u001b[0mvalidation_error\u001b[0m\u001b[0;34m:\u001b[0m\u001b[0;34m\u001b[0m\u001b[0;34m\u001b[0m\u001b[0m\n\u001b[0;32m--> 341\u001b[0;31m             \u001b[0;32mraise\u001b[0m \u001b[0mvalidation_error\u001b[0m\u001b[0;34m\u001b[0m\u001b[0;34m\u001b[0m\u001b[0m\n\u001b[0m\u001b[1;32m    342\u001b[0m         \u001b[0;32mtry\u001b[0m\u001b[0;34m:\u001b[0m\u001b[0;34m\u001b[0m\u001b[0;34m\u001b[0m\u001b[0m\n\u001b[1;32m    343\u001b[0m             \u001b[0mobject_setattr\u001b[0m\u001b[0;34m(\u001b[0m\u001b[0m__pydantic_self__\u001b[0m\u001b[0;34m,\u001b[0m \u001b[0;34m'__dict__'\u001b[0m\u001b[0;34m,\u001b[0m \u001b[0mvalues\u001b[0m\u001b[0;34m)\u001b[0m\u001b[0;34m\u001b[0m\u001b[0;34m\u001b[0m\u001b[0m\n",
            "\u001b[0;31mValidationError\u001b[0m: 1 validation error for GoogleSearchAPIWrapper\n__root__\n  Did not find google_api_key, please add an environment variable `GOOGLE_API_KEY` which contains it, or pass  `google_api_key` as a named parameter. (type=value_error)"
          ]
        }
      ],
      "source": [
        "from langchain.retrievers.web_research import GoogleSearchAPIWrapper\n",
        "\n",
        "\n",
        "yr = GoogleSearchAPIWrapper() #aYouRetriever()"
      ]
    },
    {
      "cell_type": "code",
      "source": [
        "%pip install langchain-community"
      ],
      "metadata": {
        "id": "O9mghi4tMO3N",
        "outputId": "e7a6bc4d-cdee-4591-db15-ca34126e6181",
        "colab": {
          "base_uri": "https://localhost:8080/"
        }
      },
      "execution_count": 7,
      "outputs": [
        {
          "output_type": "stream",
          "name": "stdout",
          "text": [
            "Collecting langchain-community\n",
            "  Downloading langchain_community-0.2.5-py3-none-any.whl (2.2 MB)\n",
            "\u001b[2K     \u001b[90m━━━━━━━━━━━━━━━━━━━━━━━━━━━━━━━━━━━━━━━━\u001b[0m \u001b[32m2.2/2.2 MB\u001b[0m \u001b[31m23.2 MB/s\u001b[0m eta \u001b[36m0:00:00\u001b[0m\n",
            "\u001b[?25hRequirement already satisfied: PyYAML>=5.3 in /usr/local/lib/python3.10/dist-packages (from langchain-community) (6.0.1)\n",
            "Requirement already satisfied: SQLAlchemy<3,>=1.4 in /usr/local/lib/python3.10/dist-packages (from langchain-community) (2.0.30)\n",
            "Requirement already satisfied: aiohttp<4.0.0,>=3.8.3 in /usr/local/lib/python3.10/dist-packages (from langchain-community) (3.9.5)\n",
            "Requirement already satisfied: dataclasses-json<0.7,>=0.5.7 in /usr/local/lib/python3.10/dist-packages (from langchain-community) (0.6.7)\n",
            "Collecting langchain<0.3.0,>=0.2.5 (from langchain-community)\n",
            "  Downloading langchain-0.2.5-py3-none-any.whl (974 kB)\n",
            "\u001b[2K     \u001b[90m━━━━━━━━━━━━━━━━━━━━━━━━━━━━━━━━━━━━━━━━\u001b[0m \u001b[32m974.6/974.6 kB\u001b[0m \u001b[31m62.9 MB/s\u001b[0m eta \u001b[36m0:00:00\u001b[0m\n",
            "\u001b[?25hCollecting langchain-core<0.3.0,>=0.2.7 (from langchain-community)\n",
            "  Downloading langchain_core-0.2.7-py3-none-any.whl (315 kB)\n",
            "\u001b[2K     \u001b[90m━━━━━━━━━━━━━━━━━━━━━━━━━━━━━━━━━━━━━━━━\u001b[0m \u001b[32m315.6/315.6 kB\u001b[0m \u001b[31m39.0 MB/s\u001b[0m eta \u001b[36m0:00:00\u001b[0m\n",
            "\u001b[?25hCollecting langsmith<0.2.0,>=0.1.0 (from langchain-community)\n",
            "  Downloading langsmith-0.1.77-py3-none-any.whl (125 kB)\n",
            "\u001b[2K     \u001b[90m━━━━━━━━━━━━━━━━━━━━━━━━━━━━━━━━━━━━━━━━\u001b[0m \u001b[32m125.2/125.2 kB\u001b[0m \u001b[31m19.6 MB/s\u001b[0m eta \u001b[36m0:00:00\u001b[0m\n",
            "\u001b[?25hRequirement already satisfied: numpy<2,>=1 in /usr/local/lib/python3.10/dist-packages (from langchain-community) (1.25.2)\n",
            "Requirement already satisfied: requests<3,>=2 in /usr/local/lib/python3.10/dist-packages (from langchain-community) (2.32.3)\n",
            "Requirement already satisfied: tenacity<9.0.0,>=8.1.0 in /usr/local/lib/python3.10/dist-packages (from langchain-community) (8.3.0)\n",
            "Requirement already satisfied: aiosignal>=1.1.2 in /usr/local/lib/python3.10/dist-packages (from aiohttp<4.0.0,>=3.8.3->langchain-community) (1.3.1)\n",
            "Requirement already satisfied: attrs>=17.3.0 in /usr/local/lib/python3.10/dist-packages (from aiohttp<4.0.0,>=3.8.3->langchain-community) (23.2.0)\n",
            "Requirement already satisfied: frozenlist>=1.1.1 in /usr/local/lib/python3.10/dist-packages (from aiohttp<4.0.0,>=3.8.3->langchain-community) (1.4.1)\n",
            "Requirement already satisfied: multidict<7.0,>=4.5 in /usr/local/lib/python3.10/dist-packages (from aiohttp<4.0.0,>=3.8.3->langchain-community) (6.0.5)\n",
            "Requirement already satisfied: yarl<2.0,>=1.0 in /usr/local/lib/python3.10/dist-packages (from aiohttp<4.0.0,>=3.8.3->langchain-community) (1.9.4)\n",
            "Requirement already satisfied: async-timeout<5.0,>=4.0 in /usr/local/lib/python3.10/dist-packages (from aiohttp<4.0.0,>=3.8.3->langchain-community) (4.0.3)\n",
            "Requirement already satisfied: marshmallow<4.0.0,>=3.18.0 in /usr/local/lib/python3.10/dist-packages (from dataclasses-json<0.7,>=0.5.7->langchain-community) (3.21.3)\n",
            "Requirement already satisfied: typing-inspect<1,>=0.4.0 in /usr/local/lib/python3.10/dist-packages (from dataclasses-json<0.7,>=0.5.7->langchain-community) (0.9.0)\n",
            "Collecting langchain-text-splitters<0.3.0,>=0.2.0 (from langchain<0.3.0,>=0.2.5->langchain-community)\n",
            "  Downloading langchain_text_splitters-0.2.1-py3-none-any.whl (23 kB)\n",
            "Requirement already satisfied: pydantic<3,>=1 in /usr/local/lib/python3.10/dist-packages (from langchain<0.3.0,>=0.2.5->langchain-community) (2.7.3)\n",
            "Requirement already satisfied: jsonpatch<2.0,>=1.33 in /usr/local/lib/python3.10/dist-packages (from langchain-core<0.3.0,>=0.2.7->langchain-community) (1.33)\n",
            "Requirement already satisfied: packaging<25,>=23.2 in /usr/local/lib/python3.10/dist-packages (from langchain-core<0.3.0,>=0.2.7->langchain-community) (24.1)\n",
            "Requirement already satisfied: orjson<4.0.0,>=3.9.14 in /usr/local/lib/python3.10/dist-packages (from langsmith<0.2.0,>=0.1.0->langchain-community) (3.10.5)\n",
            "Requirement already satisfied: charset-normalizer<4,>=2 in /usr/local/lib/python3.10/dist-packages (from requests<3,>=2->langchain-community) (3.3.2)\n",
            "Requirement already satisfied: idna<4,>=2.5 in /usr/local/lib/python3.10/dist-packages (from requests<3,>=2->langchain-community) (3.7)\n",
            "Requirement already satisfied: urllib3<3,>=1.21.1 in /usr/local/lib/python3.10/dist-packages (from requests<3,>=2->langchain-community) (2.0.7)\n",
            "Requirement already satisfied: certifi>=2017.4.17 in /usr/local/lib/python3.10/dist-packages (from requests<3,>=2->langchain-community) (2024.6.2)\n",
            "Requirement already satisfied: typing-extensions>=4.6.0 in /usr/local/lib/python3.10/dist-packages (from SQLAlchemy<3,>=1.4->langchain-community) (4.12.2)\n",
            "Requirement already satisfied: greenlet!=0.4.17 in /usr/local/lib/python3.10/dist-packages (from SQLAlchemy<3,>=1.4->langchain-community) (3.0.3)\n",
            "Requirement already satisfied: jsonpointer>=1.9 in /usr/local/lib/python3.10/dist-packages (from jsonpatch<2.0,>=1.33->langchain-core<0.3.0,>=0.2.7->langchain-community) (3.0.0)\n",
            "Requirement already satisfied: annotated-types>=0.4.0 in /usr/local/lib/python3.10/dist-packages (from pydantic<3,>=1->langchain<0.3.0,>=0.2.5->langchain-community) (0.7.0)\n",
            "Requirement already satisfied: pydantic-core==2.18.4 in /usr/local/lib/python3.10/dist-packages (from pydantic<3,>=1->langchain<0.3.0,>=0.2.5->langchain-community) (2.18.4)\n",
            "Requirement already satisfied: mypy-extensions>=0.3.0 in /usr/local/lib/python3.10/dist-packages (from typing-inspect<1,>=0.4.0->dataclasses-json<0.7,>=0.5.7->langchain-community) (1.0.0)\n",
            "Installing collected packages: langsmith, langchain-core, langchain-text-splitters, langchain, langchain-community\n",
            "  Attempting uninstall: langsmith\n",
            "    Found existing installation: langsmith 0.0.92\n",
            "    Uninstalling langsmith-0.0.92:\n",
            "      Successfully uninstalled langsmith-0.0.92\n",
            "  Attempting uninstall: langchain\n",
            "    Found existing installation: langchain 0.0.314\n",
            "    Uninstalling langchain-0.0.314:\n",
            "      Successfully uninstalled langchain-0.0.314\n",
            "Successfully installed langchain-0.2.5 langchain-community-0.2.5 langchain-core-0.2.7 langchain-text-splitters-0.2.1 langsmith-0.1.77\n"
          ]
        }
      ]
    },
    {
      "cell_type": "code",
      "source": [
        "from langchain_community.tools import DuckDuckGoSearchRun# Initialize the tool\n",
        "yr = DuckDuckGoSearchRun()"
      ],
      "metadata": {
        "id": "ojiERKfEL4h-"
      },
      "execution_count": 15,
      "outputs": []
    },
    {
      "cell_type": "markdown",
      "metadata": {
        "application/vnd.databricks.v1+cell": {
          "cellMetadata": {
            "byteLimit": 2048000,
            "rowLimit": 10000
          },
          "inputWidgets": {},
          "nuid": "e3688933-6f27-4773-ba7b-c5c7dab737ba",
          "showTitle": false,
          "title": ""
        },
        "id": "01aIOe2ZIqEy"
      },
      "source": [
        "### Retrieval\n",
        "The first thing you will notice about our text snippets is that we provide larger text snippets when we can and will soon have the option for specifying the amount of text you want returned from a single snippet to the entire page. Let's ask it about the greatest pinball player ever, Keith Elwin"
      ]
    },
    {
      "cell_type": "code",
      "execution_count": 22,
      "metadata": {
        "application/vnd.databricks.v1+cell": {
          "cellMetadata": {
            "byteLimit": 2048000,
            "rowLimit": 10000
          },
          "inputWidgets": {},
          "nuid": "9f76b96a-3530-420d-aa38-2d9a22af6a0e",
          "showTitle": false,
          "title": ""
        },
        "id": "JjB0SojfIqEy",
        "outputId": "116586d4-2431-427c-d211-62492b51f3de",
        "colab": {
          "base_uri": "https://localhost:8080/"
        }
      },
      "outputs": [
        {
          "output_type": "stream",
          "name": "stdout",
          "text": [
            "\u001b[32;1m\u001b[1;3mThis weekend Joel Engelberth shared a brand new interview with the G.O.A.T., Stern Pinball designer Keith Elwin on his YouTube show Flip N Out with Friends. In the interview, Elwin talks a lot about the design of his last two games, Godzilla and James Bond 60th, toppers and we even get a few tidbits about his next games - such as how his design for his next pinball machine has been done for ... Stern Pinball's JAWS Pro Edition (pictured) features Insider Connected as do the Premium and Limited Edition versions. Making its debut at CES 2024 in Las Vegas from Jan. 9-12, the latest game from Stern is officially in the world and ready to delight fans of the JAWS franchise and pinball in general. Designed by the factory's Keith Elwin ... The induced adrenaline rush wasn't based on us just playing 'another Stern pinball machine', we immediately noticed that Iron Maiden was a fresh take on the Stern formula with a new layout, thanks to Stern's rookie design team; Keith Elwin - Game Designer, Tim Sexton - Software Engineer and Harrison Drake - Lead Engineer. Good morning everyone. Here's an interesting way to start off the day. The following are all of the supposed details on Stern Pinball's next game, Keith Elwin's Jaws as relayed by someone who has seen the game to Kaneda's Pinball Podcast.If what he heard is accurate, Jaws sounds like it's going to be a seriously amazing pinball machine and the rumors that the movie assets weren't available for ... I think Keith Elwin has introduced a lot of really clever innovations in modern pinball like ramps leading to upper flippers, ... Elwin's unique features and layouts make him one of the best up-and-comers in pinball design-faith in Elwin I have. 0. 3. 3 #24 5 months ago MGS MikeS. Pinside+ Frequent. 18y 160K 6,116 136 Quoted from pinmister: ...\u001b[0mThis weekend Joel Engelberth shared a brand new interview with the G.O.A.T., Stern Pinball designer Keith Elwin on his YouTube show Flip N Out with Friends. In the interview, Elwin talks a lot about the design of his last two games, Godzilla and James Bond 60th, toppers and we even get a few tidbits about his next games - such as how his design for his next pinball machine has been done for ... Stern Pinball's JAWS Pro Edition (pictured) features Insider Connected as do the Premium and Limited Edition versions. Making its debut at CES 2024 in Las Vegas from Jan. 9-12, the latest game from Stern is officially in the world and ready to delight fans of the JAWS franchise and pinball in general. Designed by the factory's Keith Elwin ... The induced adrenaline rush wasn't based on us just playing 'another Stern pinball machine', we immediately noticed that Iron Maiden was a fresh take on the Stern formula with a new layout, thanks to Stern's rookie design team; Keith Elwin - Game Designer, Tim Sexton - Software Engineer and Harrison Drake - Lead Engineer. Good morning everyone. Here's an interesting way to start off the day. The following are all of the supposed details on Stern Pinball's next game, Keith Elwin's Jaws as relayed by someone who has seen the game to Kaneda's Pinball Podcast.If what he heard is accurate, Jaws sounds like it's going to be a seriously amazing pinball machine and the rumors that the movie assets weren't available for ... I think Keith Elwin has introduced a lot of really clever innovations in modern pinball like ramps leading to upper flippers, ... Elwin's unique features and layouts make him one of the best up-and-comers in pinball design-faith in Elwin I have. 0. 3. 3 #24 5 months ago MGS MikeS. Pinside+ Frequent. 18y 160K 6,116 136 Quoted from pinmister: ...\n"
          ]
        }
      ],
      "source": [
        "\n",
        "# Use the tool to search the internet\n",
        "search_query  = \"keith elwin pinball designer\"\n",
        "search_results = yr.run(  search_query ,num_results=10,verbose =True , tool_kwargs={\"num_results\": 10} )\n",
        "\n",
        "# Print the search results\n",
        "print(search_results)"
      ]
    },
    {
      "cell_type": "code",
      "source": [
        "search_results"
      ],
      "metadata": {
        "id": "KYhFczV4PRSz",
        "outputId": "a4da7a3c-1229-4183-ace9-1f44494d757a",
        "colab": {
          "base_uri": "https://localhost:8080/",
          "height": 160
        }
      },
      "execution_count": 23,
      "outputs": [
        {
          "output_type": "execute_result",
          "data": {
            "text/plain": [
              "\"This weekend Joel Engelberth shared a brand new interview with the G.O.A.T., Stern Pinball designer Keith Elwin on his YouTube show Flip N Out with Friends. In the interview, Elwin talks a lot about the design of his last two games, Godzilla and James Bond 60th, toppers and we even get a few tidbits about his next games - such as how his design for his next pinball machine has been done for ... Stern Pinball's JAWS Pro Edition (pictured) features Insider Connected as do the Premium and Limited Edition versions. Making its debut at CES 2024 in Las Vegas from Jan. 9-12, the latest game from Stern is officially in the world and ready to delight fans of the JAWS franchise and pinball in general. Designed by the factory's Keith Elwin ... The induced adrenaline rush wasn't based on us just playing 'another Stern pinball machine', we immediately noticed that Iron Maiden was a fresh take on the Stern formula with a new layout, thanks to Stern's rookie design team; Keith Elwin - Game Designer, Tim Sexton - Software Engineer and Harrison Drake - Lead Engineer. Good morning everyone. Here's an interesting way to start off the day. The following are all of the supposed details on Stern Pinball's next game, Keith Elwin's Jaws as relayed by someone who has seen the game to Kaneda's Pinball Podcast.If what he heard is accurate, Jaws sounds like it's going to be a seriously amazing pinball machine and the rumors that the movie assets weren't available for ... I think Keith Elwin has introduced a lot of really clever innovations in modern pinball like ramps leading to upper flippers, ... Elwin's unique features and layouts make him one of the best up-and-comers in pinball design-faith in Elwin I have. 0. 3. 3 #24 5 months ago MGS MikeS. Pinside+ Frequent. 18y 160K 6,116 136 Quoted from pinmister: ...\""
            ],
            "application/vnd.google.colaboratory.intrinsic+json": {
              "type": "string"
            }
          },
          "metadata": {},
          "execution_count": 23
        }
      ]
    },
    {
      "cell_type": "code",
      "source": [
        "from langchain_community.tools import DuckDuckGoSearchResults\n",
        "search = DuckDuckGoSearchResults()\n",
        "search_query  = \"keith elwin pinball designer\"\n",
        "search_results = search.run(  search_query ,max_results=10,verbose =True , tool_kwargs={\"num_results\": 10} )\n",
        "search_results"
      ],
      "metadata": {
        "id": "zW8FsDXURUmO",
        "outputId": "b1889738-baf9-45a3-a86a-bb3a6d661463",
        "colab": {
          "base_uri": "https://localhost:8080/",
          "height": 287
        }
      },
      "execution_count": 29,
      "outputs": [
        {
          "output_type": "stream",
          "name": "stdout",
          "text": [
            "\u001b[32;1m\u001b[1;3m[snippet: New Interview With Stern Pinball's Keith Elwin. This weekend Joel Engelberth shared a brand new interview with the G.O.A.T., Stern Pinball designer Keith Elwin on his YouTube show Flip N Out with Friends. In the interview, Elwin talks a lot about the design of his last two games, Godzilla and James Bond 60th, toppers and we even get a few ..., title: New Interview With Stern Pinball's Keith Elwin, link: https://www.knapparcade.org/post/new-interview-with-stern-pinball-s-keith-elwin], [snippet: Stern Pinball's JAWS Pro Edition (pictured) features Insider Connected as do the Premium and Limited Edition versions. Making its debut at CES 2024 in Las Vegas from Jan. 9-12, the latest game from Stern is officially in the world and ready to delight fans of the JAWS franchise and pinball in general. Designed by the factory's Keith Elwin ..., title: Spotlight Feature - Stern Pinball's JAWS, link: https://www.replaymag.com/stern-pinball-jaws-0224/], [snippet: Photo: Stern Pinball, Inc. There are a ton of other details, as highlighted by Stern's George Gomez and Keith Elwin, in the video below. Warning: It may inspire you to drop a few thousand ..., title: Jaws captures the greatness of movie-to-pinball adaptations, link: https://www.polygon.com/24025642/jaws-pinball-game-stern], [snippet: JAWS PInball (Limited Edition Version) JAWS is designed by Keith Elwin, who was also behind the well-received Stern games, Godzilla and Iron Maiden. Its main features on the playfield include a ..., title: New JAWS Pinball Machine from Stern Has Original Movie Footage, Shark ..., link: https://www.ign.com/articles/new-jaws-pinball-machine-from-stern-has-original-movie-footage-shark-toys-and-lots-of-blood]\u001b[0m"
          ]
        },
        {
          "output_type": "execute_result",
          "data": {
            "text/plain": [
              "\"[snippet: New Interview With Stern Pinball's Keith Elwin. This weekend Joel Engelberth shared a brand new interview with the G.O.A.T., Stern Pinball designer Keith Elwin on his YouTube show Flip N Out with Friends. In the interview, Elwin talks a lot about the design of his last two games, Godzilla and James Bond 60th, toppers and we even get a few ..., title: New Interview With Stern Pinball's Keith Elwin, link: https://www.knapparcade.org/post/new-interview-with-stern-pinball-s-keith-elwin], [snippet: Stern Pinball's JAWS Pro Edition (pictured) features Insider Connected as do the Premium and Limited Edition versions. Making its debut at CES 2024 in Las Vegas from Jan. 9-12, the latest game from Stern is officially in the world and ready to delight fans of the JAWS franchise and pinball in general. Designed by the factory's Keith Elwin ..., title: Spotlight Feature - Stern Pinball's JAWS, link: https://www.replaymag.com/stern-pinball-jaws-0224/], [snippet: Photo: Stern Pinball, Inc. There are a ton of other details, as highlighted by Stern's George Gomez and Keith Elwin, in the video below. Warning: It may inspire you to drop a few thousand ..., title: Jaws captures the greatness of movie-to-pinball adaptations, link: https://www.polygon.com/24025642/jaws-pinball-game-stern], [snippet: JAWS PInball (Limited Edition Version) JAWS is designed by Keith Elwin, who was also behind the well-received Stern games, Godzilla and Iron Maiden. Its main features on the playfield include a ..., title: New JAWS Pinball Machine from Stern Has Original Movie Footage, Shark ..., link: https://www.ign.com/articles/new-jaws-pinball-machine-from-stern-has-original-movie-footage-shark-toys-and-lots-of-blood]\""
            ],
            "application/vnd.google.colaboratory.intrinsic+json": {
              "type": "string"
            }
          },
          "metadata": {},
          "execution_count": 29
        }
      ]
    },
    {
      "cell_type": "code",
      "source": [
        "for x in search_results.__dir__():\n",
        "  print(x)"
      ],
      "metadata": {
        "id": "wZXBgj5LRlwO"
      },
      "execution_count": null,
      "outputs": []
    },
    {
      "cell_type": "code",
      "source": [
        "import json\n",
        "eval(search_results)"
      ],
      "metadata": {
        "id": "5xBBer7wSAiw",
        "outputId": "9926757e-2223-44e2-eee8-11147291d508",
        "colab": {
          "base_uri": "https://localhost:8080/",
          "height": 448
        }
      },
      "execution_count": 40,
      "outputs": [
        {
          "output_type": "error",
          "ename": "SyntaxError",
          "evalue": "invalid syntax (<string>, line 1)",
          "traceback": [
            "Traceback \u001b[0;36m(most recent call last)\u001b[0m:\n",
            "  File \u001b[1;32m\"/usr/local/lib/python3.10/dist-packages/IPython/core/interactiveshell.py\"\u001b[0m, line \u001b[1;32m3553\u001b[0m, in \u001b[1;35mrun_code\u001b[0m\n    exec(code_obj, self.user_global_ns, self.user_ns)\n",
            "\u001b[0;36m  File \u001b[0;32m\"<ipython-input-40-02a05fb508c7>\"\u001b[0;36m, line \u001b[0;32m2\u001b[0;36m, in \u001b[0;35m<cell line: 2>\u001b[0;36m\u001b[0m\n\u001b[0;31m    eval(search_results)\u001b[0m\n",
            "\u001b[0;36m  File \u001b[0;32m\"<string>\"\u001b[0;36m, line \u001b[0;32m1\u001b[0m\n\u001b[0;31m    [snippet: New Interview With Stern Pinball's Keith Elwin. This weekend Joel Engelberth shared a brand new interview with the G.O.A.T., Stern Pinball designer Keith Elwin on his YouTube show Flip N Out with Friends. In the interview, Elwin talks a lot about the design of his last two games, Godzilla and James Bond 60th, toppers and we even get a few ..., title: New Interview With Stern Pinball's Keith Elwin, link: https://www.knapparcade.org/post/new-interview-with-stern-pinball-s-keith-elwin], [snippet: Stern Pinball's JAWS Pro Edition (pictured) features Insider Connected as do the Premium and Limited Edition versions. Making its debut at CES 2024 in Las Vegas from Jan. 9-12, the latest game from Stern is officially in the world and ready to delight fans of the JAWS franchise and pinball in general. Designed by the factory's Keith Elwin ..., title: Spotlight Feature - Stern Pinball's JAWS, link: https://www.replaymag.com/stern-pinball-jaws-0224/], [snippet: Photo: Stern Pinball, Inc. There are a ton of other details, as highlighted by Stern's George Gomez and Keith Elwin, in the video below. Warning: It may inspire you to drop a few thousand ..., title: Jaws captures the greatness of movie-to-pinball adaptations, link: https://www.polygon.com/24025642/jaws-pinball-game-stern], [snippet: JAWS PInball (Limited Edition Version) JAWS is designed by Keith Elwin, who was also behind the well-received Stern games, Godzilla and Iron Maiden. Its main features on the pla...\n\u001b[0m            ^\u001b[0m\n\u001b[0;31mSyntaxError\u001b[0m\u001b[0;31m:\u001b[0m invalid syntax\n"
          ]
        }
      ]
    },
    {
      "cell_type": "markdown",
      "metadata": {
        "application/vnd.databricks.v1+cell": {
          "cellMetadata": {
            "byteLimit": 2048000,
            "rowLimit": 10000
          },
          "inputWidgets": {},
          "nuid": "d352ad71-2ae2-47d7-98b8-cac3e03e932f",
          "showTitle": false,
          "title": ""
        },
        "id": "s8ABn-LSIqEz"
      },
      "source": [
        "### Results\n",
        "You can see that even with the default settings we return 27 text snippets about the great Keith and some of the documents contain a decent amount of text. This makes our search API especially powerful for LLMs operating in the RAG-QA setting. But don't take my word for it, let's try it out on Hotpot QA."
      ]
    },
    {
      "cell_type": "markdown",
      "metadata": {
        "application/vnd.databricks.v1+cell": {
          "cellMetadata": {
            "byteLimit": 2048000,
            "rowLimit": 10000
          },
          "inputWidgets": {},
          "nuid": "54d68afb-9a7f-45f1-891c-74adb23f2a0c",
          "showTitle": false,
          "title": ""
        },
        "id": "O8I5icU8IqEz"
      },
      "source": [
        "### Hotpot QA\n",
        "Let's take a look at an example from Hotpot. We load this up from the [Huggingface dataset](https://huggingface.co/datasets/hotpot_qa) using the datasets library. We use the fullwiki setting here instead of the distractor but as we said before, we'll be using our own context powered by the search APIs instead of what comes off the shelf."
      ]
    },
    {
      "cell_type": "code",
      "execution_count": 12,
      "metadata": {
        "application/vnd.databricks.v1+cell": {
          "cellMetadata": {
            "byteLimit": 2048000,
            "rowLimit": 10000
          },
          "inputWidgets": {},
          "nuid": "49d13a74-25d0-40b8-8668-f88f599de707",
          "showTitle": false,
          "title": ""
        },
        "id": "yGARlAD2IqE0",
        "outputId": "40041265-ab45-41a3-b4ae-4431178ee2d3",
        "colab": {
          "base_uri": "https://localhost:8080/",
          "height": 472,
          "referenced_widgets": [
            "509c192ebabf4bbdb3b363ba358d9643",
            "f09724d456cf4e029a78da625fb8a895",
            "9521dcb615ec4a3db04e9a5a911c36bf",
            "a28c44f6d3f049c7984bbd36df266a0e",
            "44bd7858171346efa97f751bdfc0aa33",
            "f15b8548e63940098ff36afacae7c7f5",
            "77e13b97e09d49bb8398a4b5c31f2387",
            "80fceb9835de4b0eac7be93b745135ca",
            "5e1d11503529490fa13731d0b0985bc6",
            "4f8df0d4c4894530acbb49414777345c",
            "c17a3c0f89b44133afc4b148bfcddd22",
            "3058cf56c8664a878761fefb1a900b5d",
            "ebab606710b542ecb91b876ec5ef0933",
            "4c2e7854713e4123b1e7f697e267bff1",
            "fbd4e858a6a04b3ba2ffe6a6a48a9292",
            "4de664ed7b534e159b6f47bec5b54421",
            "178df3022ca04e1293826f25c94fc40c",
            "386f12bb267948fe8792a0e28aefc487",
            "7737902e8d8b41c3ac455cd4dedf9e52",
            "9bfbd16c02d442f591955841b16ea6ca",
            "3deef8e9365542298097965bb826db51",
            "f380e1db58a748eb8e629e45d186418e",
            "7a8235e41d08417ea987c44c3a294b36",
            "ff1f147754b348128b8aa1a3cc91bf73",
            "8aa26d321da645c3b1ee30c27fefe0d1",
            "a6b02831855d48c0aeda6b8379760226",
            "5e170f9419544550995857f1da0324d0",
            "4b528b1942494b58b51dc3f18d7cb9c5",
            "a9f958d3bd954148974ff0f9bce3c19d",
            "5b1d9a6ec0704db8b84c3f422f028379",
            "1b0747a08e1b460dadaef21ed7eff893",
            "ce7b41c6fe5147d1823c9e4a0cca7955",
            "7345ef5063be468ca4f174dc897768c6",
            "a068ed20d2cd4dc598dcefc8fd67ac2e",
            "9195030792b642d1a0fe28391ad153c8",
            "d86567500e0845fe9a702ad9ee1333f1",
            "d9c7da29d970451183916eecfe994bac",
            "ce8cea02a7be40298775e5f3dc820173",
            "6822b72628f944fc96be3257de136c45",
            "603867594077409b98e78c56984a4c3d",
            "ba96f82202124b868174895742da74e7",
            "9d6229ced8be44a492a0f9d66d7ed8d6",
            "5511e915817948bca033f70a507f1b74",
            "7a1ca50025434c1fa311d25430c2a430",
            "51e4bf725d914dbcb5b22ce7eee1cb71",
            "87a07a3b45c64dc7b71d2483f9ae96f2",
            "bf390c55351a48d7950481e5fa181624",
            "7e7ed794a9fe44328101082ccced51d8",
            "6bca74cbf7364647a275f2a837daf4bd",
            "dde4181da07642a1aa10d2c6c6ea69ae",
            "1aaeb5ad15554416a4fd485bcd3cd933",
            "17e6d560059248b3bb2ac81f97100f8a",
            "526c2748cd384cb986e50b90387f7986",
            "e175da28a03444f89620b49316bb2262",
            "1a566567464f49298fe9b44ac504c1e3",
            "009f33aaf672420f92986af3ff568485",
            "b7f3a3cbb6574ce5a98c6bb0ef0ed9d1",
            "bd997e97ea01462b8e26dfc5efcb6ca0",
            "ed0dba51f5d04a31876764c79eeea495",
            "d67a0070791c4dc4b61bf5ef4aa05012",
            "f99ab1448de54e9bba3d6d5a5167cf5c",
            "bcdbe6f9c7d440ba9aaa69c18dd18531",
            "ba194cf150bf4b0d890dc513ce2418a1",
            "72fdffc7bb154e758211d419e94dc0bc",
            "d684e1622aff4ff183e5146083723c7d",
            "b899ef7dcd344c948a58e41cd1b564c6",
            "1dba5153bd944c26a309ab3651c26af8",
            "2be22e892b6d4f5bb250361cb430309b",
            "de57893e01c84971a2ad96b73c6fdd9c",
            "7298caba7ec34424b3674495425bcf64",
            "c2aa6ff51e7a4b88bddfbd8715b9a133",
            "906b9cb824f3423eb079bc7838ba48ab",
            "7e435b34a0f149ef8d22be64d7f65a49",
            "3e54091bc4934558a352f7883885311e",
            "274e2788d7d64f9eab56df6bd19db17c",
            "f0eb3cc000df45a59da52e3f550c300e",
            "48d52c7e8edb44d9b4562a5102cb6aa9",
            "0cbe9662432942399cbb2ba0d9f10eb3",
            "12a802bd93f44fbc95ffad4c2dc9bfdc",
            "474064b7c2e44ed0a0225fa5c1c880ed",
            "2c59e4664a30417b8372100df742f1b8",
            "e630bf72d15943389ddf3537f124d471",
            "dfbf873ed74d469dbaadb4bc388c2dae",
            "f6efe56e95be42bdb70555fdb2c91a6d",
            "4fa7a5f81a33421c87945fc5039c0ea3",
            "30c2b7de40824074ba45f335ea528755",
            "c27938e5c8664987ba0fbaa9b6fcaca1",
            "0336abf83e2344c4b9956acb1c861bda"
          ]
        }
      },
      "outputs": [
        {
          "output_type": "stream",
          "name": "stderr",
          "text": [
            "/usr/local/lib/python3.10/dist-packages/huggingface_hub/utils/_token.py:89: UserWarning: \n",
            "The secret `HF_TOKEN` does not exist in your Colab secrets.\n",
            "To authenticate with the Hugging Face Hub, create a token in your settings tab (https://huggingface.co/settings/tokens), set it as secret in your Google Colab and restart your session.\n",
            "You will be able to reuse this secret in all of your notebooks.\n",
            "Please note that authentication is recommended but still optional to access public models or datasets.\n",
            "  warnings.warn(\n"
          ]
        },
        {
          "output_type": "display_data",
          "data": {
            "text/plain": [
              "Downloading builder script:   0%|          | 0.00/6.42k [00:00<?, ?B/s]"
            ],
            "application/vnd.jupyter.widget-view+json": {
              "version_major": 2,
              "version_minor": 0,
              "model_id": "509c192ebabf4bbdb3b363ba358d9643"
            }
          },
          "metadata": {}
        },
        {
          "output_type": "display_data",
          "data": {
            "text/plain": [
              "Downloading readme:   0%|          | 0.00/9.19k [00:00<?, ?B/s]"
            ],
            "application/vnd.jupyter.widget-view+json": {
              "version_major": 2,
              "version_minor": 0,
              "model_id": "3058cf56c8664a878761fefb1a900b5d"
            }
          },
          "metadata": {}
        },
        {
          "name": "stdout",
          "output_type": "stream",
          "text": [
            "The repository for hotpot_qa contains custom code which must be executed to correctly load the dataset. You can inspect the repository content at https://hf.co/datasets/hotpot_qa.\n",
            "You can avoid this prompt in future by passing the argument `trust_remote_code=True`.\n",
            "\n",
            "Do you wish to run the custom code? [y/N] y\n"
          ]
        },
        {
          "output_type": "display_data",
          "data": {
            "text/plain": [
              "Downloading data:   0%|          | 0.00/566M [00:00<?, ?B/s]"
            ],
            "application/vnd.jupyter.widget-view+json": {
              "version_major": 2,
              "version_minor": 0,
              "model_id": "7a8235e41d08417ea987c44c3a294b36"
            }
          },
          "metadata": {}
        },
        {
          "output_type": "display_data",
          "data": {
            "text/plain": [
              "Downloading data:   0%|          | 0.00/47.5M [00:00<?, ?B/s]"
            ],
            "application/vnd.jupyter.widget-view+json": {
              "version_major": 2,
              "version_minor": 0,
              "model_id": "a068ed20d2cd4dc598dcefc8fd67ac2e"
            }
          },
          "metadata": {}
        },
        {
          "output_type": "display_data",
          "data": {
            "text/plain": [
              "Downloading data:   0%|          | 0.00/46.2M [00:00<?, ?B/s]"
            ],
            "application/vnd.jupyter.widget-view+json": {
              "version_major": 2,
              "version_minor": 0,
              "model_id": "51e4bf725d914dbcb5b22ce7eee1cb71"
            }
          },
          "metadata": {}
        },
        {
          "output_type": "display_data",
          "data": {
            "text/plain": [
              "Generating train split:   0%|          | 0/90447 [00:00<?, ? examples/s]"
            ],
            "application/vnd.jupyter.widget-view+json": {
              "version_major": 2,
              "version_minor": 0,
              "model_id": "009f33aaf672420f92986af3ff568485"
            }
          },
          "metadata": {}
        },
        {
          "output_type": "display_data",
          "data": {
            "text/plain": [
              "Generating validation split:   0%|          | 0/7405 [00:00<?, ? examples/s]"
            ],
            "application/vnd.jupyter.widget-view+json": {
              "version_major": 2,
              "version_minor": 0,
              "model_id": "1dba5153bd944c26a309ab3651c26af8"
            }
          },
          "metadata": {}
        },
        {
          "output_type": "display_data",
          "data": {
            "text/plain": [
              "Generating test split:   0%|          | 0/7405 [00:00<?, ? examples/s]"
            ],
            "application/vnd.jupyter.widget-view+json": {
              "version_major": 2,
              "version_minor": 0,
              "model_id": "0cbe9662432942399cbb2ba0d9f10eb3"
            }
          },
          "metadata": {}
        }
      ],
      "source": [
        "from datasets import load_dataset\n",
        "\n",
        "\n",
        "hotpot_ds = load_dataset(\"hotpot_qa\", \"fullwiki\")[\"train\"]"
      ]
    },
    {
      "cell_type": "code",
      "execution_count": 24,
      "metadata": {
        "application/vnd.databricks.v1+cell": {
          "cellMetadata": {
            "byteLimit": 2048000,
            "rowLimit": 10000
          },
          "inputWidgets": {},
          "nuid": "46ee1a02-47dc-4e8b-9dba-77359df046c2",
          "showTitle": false,
          "title": ""
        },
        "id": "_IjLOArBIqE1",
        "outputId": "aaeee804-bef4-4290-e21d-2dd08e12b456",
        "colab": {
          "base_uri": "https://localhost:8080/"
        }
      },
      "outputs": [
        {
          "output_type": "execute_result",
          "data": {
            "text/plain": [
              "{'id': '5a7a06935542990198eaf050',\n",
              " 'question': \"Which magazine was started first Arthur's Magazine or First for Women?\",\n",
              " 'answer': \"Arthur's Magazine\",\n",
              " 'type': 'comparison',\n",
              " 'level': 'medium',\n",
              " 'supporting_facts': {'title': [\"Arthur's Magazine\", 'First for Women'],\n",
              "  'sent_id': [0, 0]},\n",
              " 'context': {'title': ['Radio City (Indian radio station)',\n",
              "   'History of Albanian football',\n",
              "   'Echosmith',\n",
              "   \"Women's colleges in the Southern United States\",\n",
              "   'First Arthur County Courthouse and Jail',\n",
              "   \"Arthur's Magazine\",\n",
              "   '2014–15 Ukrainian Hockey Championship',\n",
              "   'First for Women',\n",
              "   'Freeway Complex Fire',\n",
              "   'William Rast'],\n",
              "  'sentences': [[\"Radio City is India's first private FM radio station and was started on 3 July 2001.\",\n",
              "    ' It broadcasts on 91.1 (earlier 91.0 in most cities) megahertz from Mumbai (where it was started in 2004), Bengaluru (started first in 2001), Lucknow and New Delhi (since 2003).',\n",
              "    ' It plays Hindi, English and regional songs.',\n",
              "    ' It was launched in Hyderabad in March 2006, in Chennai on 7 July 2006 and in Visakhapatnam October 2007.',\n",
              "    ' Radio City recently forayed into New Media in May 2008 with the launch of a music portal - PlanetRadiocity.com that offers music related news, videos, songs, and other music-related features.',\n",
              "    ' The Radio station currently plays a mix of Hindi and Regional music.',\n",
              "    ' Abraham Thomas is the CEO of the company.'],\n",
              "   ['Football in Albania existed before the Albanian Football Federation (FSHF) was created.',\n",
              "    \" This was evidenced by the team's registration at the Balkan Cup tournament during 1929-1931, which started in 1929 (although Albania eventually had pressure from the teams because of competition, competition started first and was strong enough in the duels) .\",\n",
              "    ' Albanian National Team was founded on June 6, 1930, but Albania had to wait 16 years to play its first international match and then defeated Yugoslavia in 1946.',\n",
              "    ' In 1932, Albania joined FIFA (during the 12–16 June convention ) And in 1954 she was one of the founding members of UEFA.'],\n",
              "   ['Echosmith is an American, Corporate indie pop band formed in February 2009 in Chino, California.',\n",
              "    ' Originally formed as a quartet of siblings, the band currently consists of Sydney, Noah and Graham Sierota, following the departure of eldest sibling Jamie in late 2016.',\n",
              "    ' Echosmith started first as \"Ready Set Go!\"',\n",
              "    ' until they signed to Warner Bros.',\n",
              "    ' Records in May 2012.',\n",
              "    ' They are best known for their hit song \"Cool Kids\", which reached number 13 on the \"Billboard\" Hot 100 and was certified double platinum by the RIAA with over 1,200,000 sales in the United States and also double platinum by ARIA in Australia.',\n",
              "    ' The song was Warner Bros.',\n",
              "    \" Records' fifth-biggest-selling-digital song of 2014, with 1.3 million downloads sold.\",\n",
              "    ' The band\\'s debut album, \"Talking Dreams\", was released on October 8, 2013.'],\n",
              "   [\"Women's colleges in the Southern United States refers to undergraduate, bachelor's degree–granting institutions, often liberal arts colleges, whose student populations consist exclusively or almost exclusively of women, located in the Southern United States.\",\n",
              "    \" Many started first as girls' seminaries or academies.\",\n",
              "    ' Salem College is the oldest female educational institution in the South and Wesleyan College is the first that was established specifically as a college for women.',\n",
              "    ' Some schools, such as Mary Baldwin University and Salem College, offer coeducational courses at the graduate level.'],\n",
              "   ['The First Arthur County Courthouse and Jail, was perhaps the smallest court house in the United States, and serves now as a museum.'],\n",
              "   [\"Arthur's Magazine (1844–1846) was an American literary periodical published in Philadelphia in the 19th century.\",\n",
              "    ' Edited by T.S. Arthur, it featured work by Edgar A. Poe, J.H. Ingraham, Sarah Josepha Hale, Thomas G. Spear, and others.',\n",
              "    ' In May 1846 it was merged into \"Godey\\'s Lady\\'s Book\".'],\n",
              "   ['The 2014–15 Ukrainian Hockey Championship was the 23rd season of the Ukrainian Hockey Championship.',\n",
              "    ' Only four teams participated in the league this season, because of the instability in Ukraine and that most of the clubs had economical issues.',\n",
              "    ' Generals Kiev was the only team that participated in the league the previous season, and the season started first after the year-end of 2014.',\n",
              "    ' The regular season included just 12 rounds, where all the teams went to the semifinals.',\n",
              "    ' In the final, ATEK Kiev defeated the regular season winner HK Kremenchuk.'],\n",
              "   [\"First for Women is a woman's magazine published by Bauer Media Group in the USA.\",\n",
              "    ' The magazine was started in 1989.',\n",
              "    ' It is based in Englewood Cliffs, New Jersey.',\n",
              "    ' In 2011 the circulation of the magazine was 1,310,696 copies.'],\n",
              "   ['The Freeway Complex Fire was a 2008 wildfire in the Santa Ana Canyon area of Orange County, California.',\n",
              "    ' The fire started as two separate fires on November 15, 2008.',\n",
              "    ' The \"Freeway Fire\" started first shortly after 9am with the \"Landfill Fire\" igniting approximately 2 hours later.',\n",
              "    ' These two separate fires merged a day later and ultimately destroyed 314 residences in Anaheim Hills and Yorba Linda.'],\n",
              "   ['William Rast is an American clothing line founded by Justin Timberlake and Trace Ayala.',\n",
              "    ' It is most known for their premium jeans.',\n",
              "    ' On October 17, 2006, Justin Timberlake and Trace Ayala put on their first fashion show to launch their new William Rast clothing line.',\n",
              "    ' The label also produces other clothing items such as jackets and tops.',\n",
              "    ' The company started first as a denim line, later evolving into a men’s and women’s clothing line.']]}}"
            ]
          },
          "metadata": {},
          "execution_count": 24
        }
      ],
      "source": [
        "hotpot_ds[0]"
      ]
    },
    {
      "cell_type": "code",
      "execution_count": 25,
      "metadata": {
        "application/vnd.databricks.v1+cell": {
          "cellMetadata": {
            "byteLimit": 2048000,
            "rowLimit": 10000
          },
          "inputWidgets": {},
          "nuid": "99c64235-9435-4e5f-9ade-d26d5e20f40a",
          "showTitle": false,
          "title": ""
        },
        "id": "cJoEWS4TIqE1",
        "outputId": "0418dbe7-71e1-412c-e976-b03faf360fc5",
        "colab": {
          "base_uri": "https://localhost:8080/",
          "height": 35
        }
      },
      "outputs": [
        {
          "output_type": "execute_result",
          "data": {
            "text/plain": [
              "\"Which magazine was started first Arthur's Magazine or First for Women?\""
            ],
            "application/vnd.google.colaboratory.intrinsic+json": {
              "type": "string"
            }
          },
          "metadata": {},
          "execution_count": 25
        }
      ],
      "source": [
        "hotpot_ds[0][\"question\"]"
      ]
    },
    {
      "cell_type": "markdown",
      "metadata": {
        "application/vnd.databricks.v1+cell": {
          "cellMetadata": {
            "byteLimit": 2048000,
            "rowLimit": 10000
          },
          "inputWidgets": {},
          "nuid": "6806e8e6-4dac-414c-a844-53982687b02c",
          "showTitle": false,
          "title": ""
        },
        "id": "A2ZqCAi1IqE2"
      },
      "source": [
        "The first question is asking about 2 magazines Arthur's Magazine and First for Women, specifically which was started first. I have never heard of either of these and indeed Hotpot is chock full of extremely niche questions which require knowledge across a large swath of time. Let's look at the context."
      ]
    },
    {
      "cell_type": "code",
      "execution_count": 26,
      "metadata": {
        "application/vnd.databricks.v1+cell": {
          "cellMetadata": {
            "byteLimit": 2048000,
            "rowLimit": 10000
          },
          "inputWidgets": {},
          "nuid": "110cffb5-fc06-488e-a632-305362c22db0",
          "showTitle": false,
          "title": ""
        },
        "id": "LM84-EeDIqE3",
        "outputId": "1214352a-544d-40fd-b2d1-2251a5f6776c",
        "colab": {
          "base_uri": "https://localhost:8080/"
        }
      },
      "outputs": [
        {
          "output_type": "execute_result",
          "data": {
            "text/plain": [
              "[[\"Radio City is India's first private FM radio station and was started on 3 July 2001.\",\n",
              "  ' It broadcasts on 91.1 (earlier 91.0 in most cities) megahertz from Mumbai (where it was started in 2004), Bengaluru (started first in 2001), Lucknow and New Delhi (since 2003).',\n",
              "  ' It plays Hindi, English and regional songs.',\n",
              "  ' It was launched in Hyderabad in March 2006, in Chennai on 7 July 2006 and in Visakhapatnam October 2007.',\n",
              "  ' Radio City recently forayed into New Media in May 2008 with the launch of a music portal - PlanetRadiocity.com that offers music related news, videos, songs, and other music-related features.',\n",
              "  ' The Radio station currently plays a mix of Hindi and Regional music.',\n",
              "  ' Abraham Thomas is the CEO of the company.'],\n",
              " ['Football in Albania existed before the Albanian Football Federation (FSHF) was created.',\n",
              "  \" This was evidenced by the team's registration at the Balkan Cup tournament during 1929-1931, which started in 1929 (although Albania eventually had pressure from the teams because of competition, competition started first and was strong enough in the duels) .\",\n",
              "  ' Albanian National Team was founded on June 6, 1930, but Albania had to wait 16 years to play its first international match and then defeated Yugoslavia in 1946.',\n",
              "  ' In 1932, Albania joined FIFA (during the 12–16 June convention ) And in 1954 she was one of the founding members of UEFA.'],\n",
              " ['Echosmith is an American, Corporate indie pop band formed in February 2009 in Chino, California.',\n",
              "  ' Originally formed as a quartet of siblings, the band currently consists of Sydney, Noah and Graham Sierota, following the departure of eldest sibling Jamie in late 2016.',\n",
              "  ' Echosmith started first as \"Ready Set Go!\"',\n",
              "  ' until they signed to Warner Bros.',\n",
              "  ' Records in May 2012.',\n",
              "  ' They are best known for their hit song \"Cool Kids\", which reached number 13 on the \"Billboard\" Hot 100 and was certified double platinum by the RIAA with over 1,200,000 sales in the United States and also double platinum by ARIA in Australia.',\n",
              "  ' The song was Warner Bros.',\n",
              "  \" Records' fifth-biggest-selling-digital song of 2014, with 1.3 million downloads sold.\",\n",
              "  ' The band\\'s debut album, \"Talking Dreams\", was released on October 8, 2013.'],\n",
              " [\"Women's colleges in the Southern United States refers to undergraduate, bachelor's degree–granting institutions, often liberal arts colleges, whose student populations consist exclusively or almost exclusively of women, located in the Southern United States.\",\n",
              "  \" Many started first as girls' seminaries or academies.\",\n",
              "  ' Salem College is the oldest female educational institution in the South and Wesleyan College is the first that was established specifically as a college for women.',\n",
              "  ' Some schools, such as Mary Baldwin University and Salem College, offer coeducational courses at the graduate level.'],\n",
              " ['The First Arthur County Courthouse and Jail, was perhaps the smallest court house in the United States, and serves now as a museum.'],\n",
              " [\"Arthur's Magazine (1844–1846) was an American literary periodical published in Philadelphia in the 19th century.\",\n",
              "  ' Edited by T.S. Arthur, it featured work by Edgar A. Poe, J.H. Ingraham, Sarah Josepha Hale, Thomas G. Spear, and others.',\n",
              "  ' In May 1846 it was merged into \"Godey\\'s Lady\\'s Book\".'],\n",
              " ['The 2014–15 Ukrainian Hockey Championship was the 23rd season of the Ukrainian Hockey Championship.',\n",
              "  ' Only four teams participated in the league this season, because of the instability in Ukraine and that most of the clubs had economical issues.',\n",
              "  ' Generals Kiev was the only team that participated in the league the previous season, and the season started first after the year-end of 2014.',\n",
              "  ' The regular season included just 12 rounds, where all the teams went to the semifinals.',\n",
              "  ' In the final, ATEK Kiev defeated the regular season winner HK Kremenchuk.'],\n",
              " [\"First for Women is a woman's magazine published by Bauer Media Group in the USA.\",\n",
              "  ' The magazine was started in 1989.',\n",
              "  ' It is based in Englewood Cliffs, New Jersey.',\n",
              "  ' In 2011 the circulation of the magazine was 1,310,696 copies.'],\n",
              " ['The Freeway Complex Fire was a 2008 wildfire in the Santa Ana Canyon area of Orange County, California.',\n",
              "  ' The fire started as two separate fires on November 15, 2008.',\n",
              "  ' The \"Freeway Fire\" started first shortly after 9am with the \"Landfill Fire\" igniting approximately 2 hours later.',\n",
              "  ' These two separate fires merged a day later and ultimately destroyed 314 residences in Anaheim Hills and Yorba Linda.'],\n",
              " ['William Rast is an American clothing line founded by Justin Timberlake and Trace Ayala.',\n",
              "  ' It is most known for their premium jeans.',\n",
              "  ' On October 17, 2006, Justin Timberlake and Trace Ayala put on their first fashion show to launch their new William Rast clothing line.',\n",
              "  ' The label also produces other clothing items such as jackets and tops.',\n",
              "  ' The company started first as a denim line, later evolving into a men’s and women’s clothing line.']]"
            ]
          },
          "metadata": {},
          "execution_count": 26
        }
      ],
      "source": [
        "hotpot_ds[0][\"context\"][\"sentences\"]"
      ]
    },
    {
      "cell_type": "markdown",
      "metadata": {
        "application/vnd.databricks.v1+cell": {
          "cellMetadata": {
            "byteLimit": 2048000,
            "rowLimit": 10000
          },
          "inputWidgets": {},
          "nuid": "f405e914-485a-46e4-b517-680024f77792",
          "showTitle": false,
          "title": ""
        },
        "id": "cdLPVOgaIqE3"
      },
      "source": [
        "From the sentences we can see \"Arthur's Magazine (1844–1846)\" which we can assume means Arthur's ran from 1844-1846 while elsewhere it is mentioned \"First for Women is a woman's magazine published by Bauer Media Group in the USA. The magazine was started in 1989.\" which means Arthur's came out first. Sure enough that is the answer."
      ]
    },
    {
      "cell_type": "code",
      "execution_count": 27,
      "metadata": {
        "application/vnd.databricks.v1+cell": {
          "cellMetadata": {
            "byteLimit": 2048000,
            "rowLimit": 10000
          },
          "inputWidgets": {},
          "nuid": "d7a95c30-535a-42fe-aba8-a703fa8890e8",
          "showTitle": false,
          "title": ""
        },
        "id": "Zmn7zomMIqE3",
        "outputId": "671f103b-a7e5-470e-9d69-77b273085c69",
        "colab": {
          "base_uri": "https://localhost:8080/",
          "height": 35
        }
      },
      "outputs": [
        {
          "output_type": "execute_result",
          "data": {
            "text/plain": [
              "\"Arthur's Magazine\""
            ],
            "application/vnd.google.colaboratory.intrinsic+json": {
              "type": "string"
            }
          },
          "metadata": {},
          "execution_count": 27
        }
      ],
      "source": [
        "hotpot_ds[0][\"answer\"]"
      ]
    },
    {
      "cell_type": "markdown",
      "metadata": {
        "application/vnd.databricks.v1+cell": {
          "cellMetadata": {
            "byteLimit": 2048000,
            "rowLimit": 10000
          },
          "inputWidgets": {},
          "nuid": "f037caaf-cfbd-467f-8184-6962d5610427",
          "showTitle": false,
          "title": ""
        },
        "id": "dvwUHPuLIqE3"
      },
      "source": [
        "Now let's use our `YouRetriever` in a RetrievalQA chain to see if we can answer this question using the the You.com Search API and GPT 3.5 Turbo."
      ]
    },
    {
      "cell_type": "code",
      "execution_count": null,
      "metadata": {
        "application/vnd.databricks.v1+cell": {
          "cellMetadata": {
            "byteLimit": 2048000,
            "rowLimit": 10000
          },
          "inputWidgets": {},
          "nuid": "9f7ea407-f9c7-4fc9-83be-ab0c8eaabe98",
          "showTitle": false,
          "title": ""
        },
        "id": "52NfXvj8IqE4"
      },
      "outputs": [],
      "source": [
        "from langchain.chains import RetrievalQA\n",
        "from langchain.chat_models import ChatOpenAI\n",
        "\n",
        "\n",
        "model = \"gpt-3.5-turbo-16k\"\n",
        "qa = RetrievalQA.from_chain_type(llm=ChatOpenAI(model=model), chain_type=\"stuff\", retriever=yr)"
      ]
    },
    {
      "cell_type": "code",
      "execution_count": null,
      "metadata": {
        "application/vnd.databricks.v1+cell": {
          "cellMetadata": {
            "byteLimit": 2048000,
            "rowLimit": 10000
          },
          "inputWidgets": {},
          "nuid": "7b8a1f67-b9fb-4fc6-8001-73f621c4db9d",
          "showTitle": false,
          "title": ""
        },
        "id": "eWGI8UR-IqE4",
        "outputId": "6f7bf0a4-3302-4c3c-cb65-62c8768247f7"
      },
      "outputs": [
        {
          "data": {
            "text/plain": [
              "'Arthur magazine was started first. It was founded in October 2002. First for Women magazine was first published in 1989.'"
            ]
          },
          "execution_count": 11,
          "metadata": {},
          "output_type": "execute_result"
        }
      ],
      "source": [
        "qa.run(hotpot_ds[0][\"question\"])"
      ]
    },
    {
      "cell_type": "markdown",
      "metadata": {
        "application/vnd.databricks.v1+cell": {
          "cellMetadata": {
            "byteLimit": 2048000,
            "rowLimit": 10000
          },
          "inputWidgets": {},
          "nuid": "3652fe82-b690-47ac-a4fd-4861aceec464",
          "showTitle": false,
          "title": ""
        },
        "id": "De9PKbjLIqE4"
      },
      "source": [
        "We got it! Hurray! A quick note here is that we are using the 16k context window with GPT 3.5 Turbo because our API returns so much text by default it can overwhelm models with smaller context windows. Let's see what happens if we try the same thing with normal GPT 3.5 Turbo."
      ]
    },
    {
      "cell_type": "code",
      "execution_count": null,
      "metadata": {
        "application/vnd.databricks.v1+cell": {
          "cellMetadata": {
            "byteLimit": 2048000,
            "rowLimit": 10000
          },
          "inputWidgets": {},
          "nuid": "bd79590f-9747-4a78-afac-3dc577223ef2",
          "showTitle": false,
          "title": ""
        },
        "id": "hFE6XgNpIqE4"
      },
      "outputs": [],
      "source": [
        "from openai.error import InvalidRequestError\n",
        "\n",
        "\n",
        "try:\n",
        "    small_context_model = \"gpt-3.5-turbo\"\n",
        "    small_context_qa = RetrievalQA.from_chain_type(llm=ChatOpenAI(model=small_context_model), chain_type=\"stuff\", retriever=yr)\n",
        "    small_context_qa.run(hotpot_ds[0][\"question\"])\n",
        "except InvalidRequestError:\n",
        "    print(\"Boom! Too much text!\")"
      ]
    },
    {
      "cell_type": "markdown",
      "metadata": {
        "application/vnd.databricks.v1+cell": {
          "cellMetadata": {
            "byteLimit": 2048000,
            "rowLimit": 10000
          },
          "inputWidgets": {},
          "nuid": "ba409228-13fc-4a56-9974-b0f3115796fc",
          "showTitle": false,
          "title": ""
        },
        "id": "W-XRvdG2IqE4"
      },
      "source": [
        "There are a few options you can employ here if you don't want to use a smaller context window model. The first is the cap the number of documents you feed from our API to the LLM. The other option is to use the [map_reduce chain](https://python.langchain.com/docs/modules/chains/document/map_reduce) type. The map_reduce chain type takes larger chunks of text and breaks them down to make them digestible by the LLM. This does mean that you will need to make multiple calls to the LLM which will mean slower run-time but you'll be able to process all the data returned from the `YouRetriever`."
      ]
    },
    {
      "cell_type": "code",
      "execution_count": null,
      "metadata": {
        "application/vnd.databricks.v1+cell": {
          "cellMetadata": {
            "byteLimit": 2048000,
            "rowLimit": 10000
          },
          "inputWidgets": {},
          "nuid": "4fd76e48-805d-4411-bd73-cbc56a8b8d21",
          "showTitle": false,
          "title": ""
        },
        "id": "h4DD9XLUIqE4",
        "outputId": "241472d6-bca3-4765-e270-d39204fadf21"
      },
      "outputs": [
        {
          "data": {
            "text/plain": [
              "\"Based on the information available, it seems that Arthur's Magazine was started first. The text does not mention the beginning date of First for Women.\""
            ]
          },
          "execution_count": 13,
          "metadata": {},
          "output_type": "execute_result"
        }
      ],
      "source": [
        "mr_small_context_qa = RetrievalQA.from_chain_type(llm=ChatOpenAI(model=small_context_model), chain_type=\"map_reduce\", retriever=yr)\n",
        "mr_small_context_qa.run(hotpot_ds[0][\"question\"])"
      ]
    },
    {
      "cell_type": "markdown",
      "metadata": {
        "application/vnd.databricks.v1+cell": {
          "cellMetadata": {
            "byteLimit": 2048000,
            "rowLimit": 10000
          },
          "inputWidgets": {},
          "nuid": "1e862fa7-2868-4e13-8a6c-6653140a377a",
          "showTitle": false,
          "title": ""
        },
        "id": "cLSFgokaIqE4"
      },
      "source": [
        "The chain is able to run but we can no longer answer the question without the full payload of documents in-context at one time it would seem. This is what makes large context window models so exciting LLMs are becoming extremely good at using a ton of text to answer questions."
      ]
    },
    {
      "cell_type": "markdown",
      "metadata": {
        "application/vnd.databricks.v1+cell": {
          "cellMetadata": {
            "byteLimit": 2048000,
            "rowLimit": 10000
          },
          "inputWidgets": {},
          "nuid": "dc4a1efc-eb83-4d2d-a6b2-2d6e8e0cb491",
          "showTitle": false,
          "title": ""
        },
        "id": "X99D41LPIqE4"
      },
      "source": [
        "### Head-to-Head Evaluation\n",
        "Let's take a sample from Hotpot QA and compare our search API with one of the current alternatives in LangChain, the `GoogleSearchAPIWrapper`. This isn't a retriever in LangChain but it only takes a small amount of code to make an analog retriever. All we need to do is implement the `_get_relevant_documents` method of the abstract base class `BaseRetriever`. We should note here, that you could easily repeat this experiment and swap in another web search API like Bing. First let's create a small utility for the existing wrapper."
      ]
    },
    {
      "cell_type": "code",
      "execution_count": null,
      "metadata": {
        "application/vnd.databricks.v1+cell": {
          "cellMetadata": {
            "byteLimit": 2048000,
            "rowLimit": 10000
          },
          "inputWidgets": {},
          "nuid": "c05af793-5da5-4f4b-af27-751e73e04fd3",
          "showTitle": false,
          "title": ""
        },
        "id": "MfaHjOsiIqE4"
      },
      "outputs": [],
      "source": [
        "from langchain.utilities import GoogleSearchAPIWrapper\n",
        "\n",
        "\n",
        "search = GoogleSearchAPIWrapper()\n",
        "\n",
        "def top10_results(query):\n",
        "    return search.results(query, 10)"
      ]
    },
    {
      "cell_type": "markdown",
      "metadata": {
        "application/vnd.databricks.v1+cell": {
          "cellMetadata": {
            "byteLimit": 2048000,
            "rowLimit": 10000
          },
          "inputWidgets": {},
          "nuid": "0c281620-2575-4808-8cff-6fc669d3a8eb",
          "showTitle": false,
          "title": ""
        },
        "id": "k8BXOgFdIqE4"
      },
      "source": [
        "Now implement the `GoogleRetriever`."
      ]
    },
    {
      "cell_type": "code",
      "execution_count": null,
      "metadata": {
        "application/vnd.databricks.v1+cell": {
          "cellMetadata": {
            "byteLimit": 2048000,
            "rowLimit": 10000
          },
          "inputWidgets": {},
          "nuid": "0f2215fc-71b0-4fea-91c7-6e0f96e27b1b",
          "showTitle": false,
          "title": ""
        },
        "id": "U2REqQ12IqE5"
      },
      "outputs": [],
      "source": [
        "from langchain.schema.retriever import BaseRetriever, Document\n",
        "from typing import TYPE_CHECKING, Any, Dict, List, Optional\n",
        "from langchain.callbacks.manager import CallbackManagerForRetrieverRun, AsyncCallbackManagerForRetrieverRun\n",
        "\n",
        "\n",
        "class GoogleRetriever(BaseRetriever):\n",
        "    def __int__(self):\n",
        "        pass\n",
        "\n",
        "    def _get_relevant_documents(\n",
        "            self, query: str, *, run_manager: CallbackManagerForRetrieverRun\n",
        "    ) -> List[Document]:\n",
        "        return [Document(page_content=result.get(\"snippet\", \"\")) for result in top10_results(query)]\n",
        "\n",
        "    async def _aget_relevant_documents(\n",
        "            self,\n",
        "            query: str,\n",
        "            *,\n",
        "            run_manager: AsyncCallbackManagerForRetrieverRun,\n",
        "            **kwargs: Any,\n",
        "    ) -> List[Document]:\n",
        "        raise NotImplementedError()"
      ]
    },
    {
      "cell_type": "markdown",
      "metadata": {
        "id": "F16NAUtNIqE5"
      },
      "source": [
        "First, let's see the results of our new retriever on our test query."
      ]
    },
    {
      "cell_type": "code",
      "execution_count": null,
      "metadata": {
        "id": "sqtOBz9TIqE5",
        "outputId": "fc7a95d7-55d1-423f-c70e-b374139d44fd"
      },
      "outputs": [
        {
          "data": {
            "text/plain": [
              "[Document(page_content='Objectively, this may be the best pinball machine design of all time, including being better than AIQ. But my personal subjective preference for AIQ trumps it\\xa0...'),\n",
              " Document(page_content='List of Keith Elwin Pinball Machines · JAWS · James Bond 007 60th Anniversary (LE) · Godzilla · Avengers: Infinity Quest · Jurassic Park · Iron Maiden: Legacy\\xa0...'),\n",
              " Document(page_content='Keith Elwin was a member of the design team for the following pinball machines (ordered by date in descending order). Wishlist Collection Find on market · Jaws\\xa0...'),\n",
              " Document(page_content='Keith Elwin is a professional pinball player turned designer from California. He started as an operator and technician and made a name for himself as an\\xa0...'),\n",
              " Document(page_content='Aug 10, 2021 ... As I understand it Keith Elwin, Stern\\'s hottest designer was brought on in the same way. He made an \"Archer\" homebrew that was picked up and\\xa0...'),\n",
              " Document(page_content=\"Jan 13, 2024 ... Pinball wizard Keith Elwin on the great Jaws moments that inspire Stern's new machines.\"),\n",
              " Document(page_content='Keith Elwin is a professionally-ranked pinball player and game designer for Stern Pinball. With multiple PAPA victories and being ranked first several times\\xa0...'),\n",
              " Document(page_content=\"Mar 2, 2023 ... It's not just Jack and Scott – both Eric Meunier at Jersey Jack and Keith Elwin (who you know from designing your fave pinball machine and being\\xa0...\"),\n",
              " Document(page_content='Keith Elwin (Kme). \\U000f16b8. Game Designer at Stern Pinball. \\U000f170f. Lives in Chicago, Illinois. \\U000f16cf. Joined May 2008. \\U000f07f7. enter_your_initials.'),\n",
              " Document(page_content='Just Another Pinball Podcast Episode 33: Godzilla Deep Dive with Keith Elwin Host: Joel Engelberth Special Guest: Keith Elwin, Stern Pinball Senior Designer\\xa0...')]"
            ]
          },
          "execution_count": 16,
          "metadata": {},
          "output_type": "execute_result"
        }
      ],
      "source": [
        "gr = GoogleRetriever()\n",
        "gr.get_relevant_documents(\"keith elwin pinball designer\")"
      ]
    },
    {
      "cell_type": "markdown",
      "metadata": {
        "application/vnd.databricks.v1+cell": {
          "cellMetadata": {
            "byteLimit": 2048000,
            "rowLimit": 10000
          },
          "inputWidgets": {},
          "nuid": "8e80b700-eef0-4261-9428-cea39da3d721",
          "showTitle": false,
          "title": ""
        },
        "id": "P3VI7_mxIqE5"
      },
      "source": [
        "As you can see Google gives us much less information to feed into our LLM. While in both cases we requested results from 10 web results, the You.com Search API will attempt to give multiple text snippets per web result. To further demonstrate, we can now get predictions from the exact same LLM so we do our best to isolate the experiment to evaluating the search APIs."
      ]
    },
    {
      "cell_type": "code",
      "execution_count": null,
      "metadata": {
        "application/vnd.databricks.v1+cell": {
          "cellMetadata": {
            "byteLimit": 2048000,
            "rowLimit": 10000
          },
          "inputWidgets": {},
          "nuid": "3551a335-1cdc-4e96-beca-dda0ced9bd47",
          "showTitle": false,
          "title": ""
        },
        "id": "cspGWiq0IqE5"
      },
      "outputs": [],
      "source": [
        "google_qa = RetrievalQA.from_chain_type(\n",
        "    llm=ChatOpenAI(model=model), chain_type=\"stuff\", retriever=gr\n",
        ")"
      ]
    },
    {
      "cell_type": "markdown",
      "metadata": {
        "application/vnd.databricks.v1+cell": {
          "cellMetadata": {
            "byteLimit": 2048000,
            "rowLimit": 10000
          },
          "inputWidgets": {},
          "nuid": "1ea24f82-c17c-4ea7-9317-0fbbff72c3cb",
          "showTitle": false,
          "title": ""
        },
        "id": "obDpqJYNIqE6"
      },
      "source": [
        "Let's get a sample from our dataset."
      ]
    },
    {
      "cell_type": "code",
      "execution_count": null,
      "metadata": {
        "application/vnd.databricks.v1+cell": {
          "cellMetadata": {
            "byteLimit": 2048000,
            "rowLimit": 10000
          },
          "inputWidgets": {},
          "nuid": "3ea1eaa7-6299-4f51-a81f-229d3d7601e6",
          "showTitle": false,
          "title": ""
        },
        "id": "YbMU9BjGIqE6"
      },
      "outputs": [],
      "source": [
        "SAMPLE_SIZE = 20\n",
        "hotpot_pds = hotpot_ds.to_pandas()\n",
        "hotpot_pds_sample = hotpot_pds.sample(SAMPLE_SIZE, random_state=123).reset_index()"
      ]
    },
    {
      "cell_type": "code",
      "execution_count": null,
      "metadata": {
        "application/vnd.databricks.v1+cell": {
          "cellMetadata": {
            "byteLimit": 2048000,
            "rowLimit": 10000
          },
          "inputWidgets": {},
          "nuid": "73623865-300a-4487-be68-c5cf0b680b98",
          "showTitle": false,
          "title": ""
        },
        "id": "LF1UrezhIqE6"
      },
      "outputs": [],
      "source": [
        "from concurrent.futures import ThreadPoolExecutor\n",
        "from tqdm import tqdm\n",
        "\n",
        "\n",
        "# This function is a simple way to parallelize calls to OpenAI in our pandas apply\n",
        "def parallel_progress_apply(column, callback, num_workers):\n",
        "    with ThreadPoolExecutor(max_workers=num_workers) as executor:\n",
        "        return list(tqdm(executor.map(callback, column), total=len(column)))\n",
        "\n",
        "\n",
        "# This function is a utility for our parallel pandas apply\n",
        "def get_run_chain_function(chain):\n",
        "    def run_chain(example):\n",
        "        try:\n",
        "            return chain(example)[\"result\"]\n",
        "        except:\n",
        "            return \"\"\n",
        "    return run_chain"
      ]
    },
    {
      "cell_type": "markdown",
      "metadata": {
        "application/vnd.databricks.v1+cell": {
          "cellMetadata": {
            "byteLimit": 2048000,
            "rowLimit": 10000
          },
          "inputWidgets": {},
          "nuid": "5fcc143d-d41d-4162-b579-22e3c9bb65d7",
          "showTitle": false,
          "title": ""
        },
        "id": "U3NNRQ6sIqE6"
      },
      "source": [
        "Now we get predictions from the LLM using each search API's results. It's important to remember that at this point we have done everything we can to ensure the only thing we're testing is the quality of search results for use by an LLM to answer these questions."
      ]
    },
    {
      "cell_type": "code",
      "execution_count": null,
      "metadata": {
        "application/vnd.databricks.v1+cell": {
          "cellMetadata": {
            "byteLimit": 2048000,
            "rowLimit": 10000
          },
          "inputWidgets": {},
          "nuid": "a3928feb-bef7-4fe6-8945-c0a0f12acdc4",
          "showTitle": false,
          "title": ""
        },
        "id": "yU3T6pFfIqE6",
        "outputId": "f28361a0-81ec-4739-98c7-8901dc796c31"
      },
      "outputs": [
        {
          "name": "stderr",
          "output_type": "stream",
          "text": [
            "100%|██████████| 20/20 [00:10<00:00,  1.88it/s]\n"
          ]
        }
      ],
      "source": [
        "hotpot_pds_sample[\"ydc_prediction\"] = parallel_progress_apply(\n",
        "    hotpot_pds_sample[\"question\"], lambda x: get_run_chain_function(qa)(x), num_workers=4\n",
        ")\n",
        "hotpot_pds_sample[\"google_prediction\"] = hotpot_pds_sample[\"question\"].apply(get_run_chain_function(google_qa))"
      ]
    },
    {
      "cell_type": "markdown",
      "metadata": {
        "application/vnd.databricks.v1+cell": {
          "cellMetadata": {
            "byteLimit": 2048000,
            "rowLimit": 10000
          },
          "inputWidgets": {},
          "nuid": "e0705978-f6a9-4424-9223-14fc1d5c8940",
          "showTitle": false,
          "title": ""
        },
        "id": "DiPsu01iIqE8"
      },
      "source": [
        "### Calculating Scores\n",
        "We use the F1 score function from the hotpot repository to ensure we are as close to the evaluation setting that was presented in the paper."
      ]
    },
    {
      "cell_type": "code",
      "execution_count": null,
      "metadata": {
        "application/vnd.databricks.v1+cell": {
          "cellMetadata": {
            "byteLimit": 2048000,
            "rowLimit": 10000
          },
          "inputWidgets": {},
          "nuid": "b767b975-fc98-4868-b209-3e61be1e0d8b",
          "showTitle": false,
          "title": ""
        },
        "id": "qR1JZaqaIqE8"
      },
      "outputs": [],
      "source": [
        "import re\n",
        "import string\n",
        "from collections import Counter\n",
        "\n",
        "\n",
        "# This is all taken from hotpot_qa source code with minor modifications to only return the f1 instead of the (P,R,F1) tuple\n",
        "# https://github.com/hotpotqa/hotpot/blob/master/hotpot_evaluate_v1.py#L26\n",
        "def calculate_f1_score(prediction, ground_truth):\n",
        "    normalized_prediction = normalize_answer(prediction)\n",
        "    normalized_ground_truth = normalize_answer(ground_truth)\n",
        "\n",
        "    ZERO_METRIC = 0\n",
        "\n",
        "    if (\n",
        "        normalized_prediction in [\"yes\", \"no\", \"noanswer\"]\n",
        "        and normalized_prediction != normalized_ground_truth\n",
        "    ):\n",
        "        return ZERO_METRIC\n",
        "    if (\n",
        "        normalized_ground_truth in [\"yes\", \"no\", \"noanswer\"]\n",
        "        and normalized_prediction != normalized_ground_truth\n",
        "    ):\n",
        "        return ZERO_METRIC\n",
        "\n",
        "    prediction_tokens = normalized_prediction.split()\n",
        "    ground_truth_tokens = normalized_ground_truth.split()\n",
        "    common = Counter(prediction_tokens) & Counter(ground_truth_tokens)\n",
        "    num_same = sum(common.values())\n",
        "    if num_same == 0:\n",
        "        return 0\n",
        "    precision = 1.0 * num_same / len(prediction_tokens)\n",
        "    recall = 1.0 * num_same / len(ground_truth_tokens)\n",
        "    f1 = (2 * precision * recall) / (precision + recall)\n",
        "    return f1\n",
        "\n",
        "\n",
        "def normalize_answer(s):\n",
        "    def remove_articles(text):\n",
        "        return re.sub(r\"\\b(a|an|the)\\b\", \" \", text)\n",
        "\n",
        "    def white_space_fix(text):\n",
        "        return \" \".join(text.split())\n",
        "\n",
        "    def remove_punc(text):\n",
        "        exclude = set(string.punctuation)\n",
        "        return \"\".join(ch for ch in text if ch not in exclude)\n",
        "\n",
        "    def lower(text):\n",
        "        return text.lower()\n",
        "\n",
        "    return white_space_fix(remove_articles(remove_punc(lower(s))))\n",
        "\n",
        "\n",
        "def exact_match_score(prediction, ground_truth):\n",
        "    return normalize_answer(prediction) == normalize_answer(ground_truth)\n",
        "\n",
        "\n",
        "def filter_wiki_citation(snip):\n",
        "    return not snip.startswith(\"- ^\")"
      ]
    },
    {
      "cell_type": "code",
      "execution_count": null,
      "metadata": {
        "application/vnd.databricks.v1+cell": {
          "cellMetadata": {
            "byteLimit": 2048000,
            "rowLimit": 10000
          },
          "inputWidgets": {},
          "nuid": "75514a76-4b89-444e-8bd1-45d7cda17fa4",
          "showTitle": false,
          "title": ""
        },
        "id": "NkiS8cXsIqE8",
        "outputId": "edaed249-cf5a-429c-fd2b-48abf0e28d14"
      },
      "outputs": [
        {
          "name": "stderr",
          "output_type": "stream",
          "text": [
            "100%|██████████| 20/20 [00:00<00:00, 208154.04it/s]\n",
            "100%|██████████| 20/20 [00:00<00:00, 331565.53it/s]\n"
          ]
        }
      ],
      "source": [
        "hotpot_pds_sample[\"ydc_f1\"] = parallel_progress_apply(\n",
        "    list(hotpot_pds_sample.iterrows()),\n",
        "    lambda x: calculate_f1_score(x[1][\"ydc_prediction\"], x[1][\"answer\"]),\n",
        "    num_workers=8,\n",
        ")\n",
        "hotpot_pds_sample[\"google_f1\"] = parallel_progress_apply(\n",
        "    list(hotpot_pds_sample.iterrows()),\n",
        "    lambda x: calculate_f1_score(x[1][\"google_prediction\"], x[1][\"answer\"]),\n",
        "    num_workers=8,\n",
        ")"
      ]
    },
    {
      "cell_type": "code",
      "execution_count": null,
      "metadata": {
        "application/vnd.databricks.v1+cell": {
          "cellMetadata": {
            "byteLimit": 2048000,
            "rowLimit": 10000
          },
          "inputWidgets": {},
          "nuid": "f691f864-8be1-49c3-8d20-dfb57c50bdbe",
          "showTitle": false,
          "title": ""
        },
        "id": "kvXhcQayIqE8",
        "outputId": "e0ca0e35-21c4-4416-e2fd-3e2f1a2e0255"
      },
      "outputs": [
        {
          "name": "stdout",
          "output_type": "stream",
          "text": [
            "You.com F1\n",
            "0.07386316842034746\n",
            "Google F1\n",
            "0.052014411027568916\n"
          ]
        }
      ],
      "source": [
        "print(\"You.com F1\")\n",
        "print(hotpot_pds_sample[\"ydc_f1\"].mean())\n",
        "print(\"Google F1\")\n",
        "print(hotpot_pds_sample[\"google_f1\"].mean())"
      ]
    },
    {
      "cell_type": "markdown",
      "metadata": {
        "id": "TLT1Es4ZIqE8"
      },
      "source": [
        "### In Conclusion\n",
        "As you can see, the You.com Search API heavily out-performs Google on this small subset of data. Please stay tuned as You.com will be releasing a much larger search study in the weeks to come. If you would like to be an early access partner of ours please email api@you.com with your background, use case, and expected daily call volume."
      ]
    }
  ],
  "metadata": {
    "application/vnd.databricks.v1+notebook": {
      "dashboards": [],
      "language": "python",
      "notebookMetadata": {
        "pythonIndentUnit": 4
      },
      "notebookName": "blog notebook",
      "widgets": {}
    },
    "kernelspec": {
      "display_name": "Python 3",
      "name": "python3"
    },
    "language_info": {
      "codemirror_mode": {
        "name": "ipython",
        "version": 3
      },
      "file_extension": ".py",
      "mimetype": "text/x-python",
      "name": "python",
      "nbconvert_exporter": "python",
      "pygments_lexer": "ipython3",
      "version": "3.10.14"
    },
    "colab": {
      "provenance": [],
      "gpuType": "T4"
    },
    "accelerator": "GPU",
    "widgets": {
      "application/vnd.jupyter.widget-state+json": {
        "509c192ebabf4bbdb3b363ba358d9643": {
          "model_module": "@jupyter-widgets/controls",
          "model_name": "HBoxModel",
          "model_module_version": "1.5.0",
          "state": {
            "_dom_classes": [],
            "_model_module": "@jupyter-widgets/controls",
            "_model_module_version": "1.5.0",
            "_model_name": "HBoxModel",
            "_view_count": null,
            "_view_module": "@jupyter-widgets/controls",
            "_view_module_version": "1.5.0",
            "_view_name": "HBoxView",
            "box_style": "",
            "children": [
              "IPY_MODEL_f09724d456cf4e029a78da625fb8a895",
              "IPY_MODEL_9521dcb615ec4a3db04e9a5a911c36bf",
              "IPY_MODEL_a28c44f6d3f049c7984bbd36df266a0e"
            ],
            "layout": "IPY_MODEL_44bd7858171346efa97f751bdfc0aa33"
          }
        },
        "f09724d456cf4e029a78da625fb8a895": {
          "model_module": "@jupyter-widgets/controls",
          "model_name": "HTMLModel",
          "model_module_version": "1.5.0",
          "state": {
            "_dom_classes": [],
            "_model_module": "@jupyter-widgets/controls",
            "_model_module_version": "1.5.0",
            "_model_name": "HTMLModel",
            "_view_count": null,
            "_view_module": "@jupyter-widgets/controls",
            "_view_module_version": "1.5.0",
            "_view_name": "HTMLView",
            "description": "",
            "description_tooltip": null,
            "layout": "IPY_MODEL_f15b8548e63940098ff36afacae7c7f5",
            "placeholder": "​",
            "style": "IPY_MODEL_77e13b97e09d49bb8398a4b5c31f2387",
            "value": "Downloading builder script: 100%"
          }
        },
        "9521dcb615ec4a3db04e9a5a911c36bf": {
          "model_module": "@jupyter-widgets/controls",
          "model_name": "FloatProgressModel",
          "model_module_version": "1.5.0",
          "state": {
            "_dom_classes": [],
            "_model_module": "@jupyter-widgets/controls",
            "_model_module_version": "1.5.0",
            "_model_name": "FloatProgressModel",
            "_view_count": null,
            "_view_module": "@jupyter-widgets/controls",
            "_view_module_version": "1.5.0",
            "_view_name": "ProgressView",
            "bar_style": "success",
            "description": "",
            "description_tooltip": null,
            "layout": "IPY_MODEL_80fceb9835de4b0eac7be93b745135ca",
            "max": 6422,
            "min": 0,
            "orientation": "horizontal",
            "style": "IPY_MODEL_5e1d11503529490fa13731d0b0985bc6",
            "value": 6422
          }
        },
        "a28c44f6d3f049c7984bbd36df266a0e": {
          "model_module": "@jupyter-widgets/controls",
          "model_name": "HTMLModel",
          "model_module_version": "1.5.0",
          "state": {
            "_dom_classes": [],
            "_model_module": "@jupyter-widgets/controls",
            "_model_module_version": "1.5.0",
            "_model_name": "HTMLModel",
            "_view_count": null,
            "_view_module": "@jupyter-widgets/controls",
            "_view_module_version": "1.5.0",
            "_view_name": "HTMLView",
            "description": "",
            "description_tooltip": null,
            "layout": "IPY_MODEL_4f8df0d4c4894530acbb49414777345c",
            "placeholder": "​",
            "style": "IPY_MODEL_c17a3c0f89b44133afc4b148bfcddd22",
            "value": " 6.42k/6.42k [00:00&lt;00:00, 448kB/s]"
          }
        },
        "44bd7858171346efa97f751bdfc0aa33": {
          "model_module": "@jupyter-widgets/base",
          "model_name": "LayoutModel",
          "model_module_version": "1.2.0",
          "state": {
            "_model_module": "@jupyter-widgets/base",
            "_model_module_version": "1.2.0",
            "_model_name": "LayoutModel",
            "_view_count": null,
            "_view_module": "@jupyter-widgets/base",
            "_view_module_version": "1.2.0",
            "_view_name": "LayoutView",
            "align_content": null,
            "align_items": null,
            "align_self": null,
            "border": null,
            "bottom": null,
            "display": null,
            "flex": null,
            "flex_flow": null,
            "grid_area": null,
            "grid_auto_columns": null,
            "grid_auto_flow": null,
            "grid_auto_rows": null,
            "grid_column": null,
            "grid_gap": null,
            "grid_row": null,
            "grid_template_areas": null,
            "grid_template_columns": null,
            "grid_template_rows": null,
            "height": null,
            "justify_content": null,
            "justify_items": null,
            "left": null,
            "margin": null,
            "max_height": null,
            "max_width": null,
            "min_height": null,
            "min_width": null,
            "object_fit": null,
            "object_position": null,
            "order": null,
            "overflow": null,
            "overflow_x": null,
            "overflow_y": null,
            "padding": null,
            "right": null,
            "top": null,
            "visibility": null,
            "width": null
          }
        },
        "f15b8548e63940098ff36afacae7c7f5": {
          "model_module": "@jupyter-widgets/base",
          "model_name": "LayoutModel",
          "model_module_version": "1.2.0",
          "state": {
            "_model_module": "@jupyter-widgets/base",
            "_model_module_version": "1.2.0",
            "_model_name": "LayoutModel",
            "_view_count": null,
            "_view_module": "@jupyter-widgets/base",
            "_view_module_version": "1.2.0",
            "_view_name": "LayoutView",
            "align_content": null,
            "align_items": null,
            "align_self": null,
            "border": null,
            "bottom": null,
            "display": null,
            "flex": null,
            "flex_flow": null,
            "grid_area": null,
            "grid_auto_columns": null,
            "grid_auto_flow": null,
            "grid_auto_rows": null,
            "grid_column": null,
            "grid_gap": null,
            "grid_row": null,
            "grid_template_areas": null,
            "grid_template_columns": null,
            "grid_template_rows": null,
            "height": null,
            "justify_content": null,
            "justify_items": null,
            "left": null,
            "margin": null,
            "max_height": null,
            "max_width": null,
            "min_height": null,
            "min_width": null,
            "object_fit": null,
            "object_position": null,
            "order": null,
            "overflow": null,
            "overflow_x": null,
            "overflow_y": null,
            "padding": null,
            "right": null,
            "top": null,
            "visibility": null,
            "width": null
          }
        },
        "77e13b97e09d49bb8398a4b5c31f2387": {
          "model_module": "@jupyter-widgets/controls",
          "model_name": "DescriptionStyleModel",
          "model_module_version": "1.5.0",
          "state": {
            "_model_module": "@jupyter-widgets/controls",
            "_model_module_version": "1.5.0",
            "_model_name": "DescriptionStyleModel",
            "_view_count": null,
            "_view_module": "@jupyter-widgets/base",
            "_view_module_version": "1.2.0",
            "_view_name": "StyleView",
            "description_width": ""
          }
        },
        "80fceb9835de4b0eac7be93b745135ca": {
          "model_module": "@jupyter-widgets/base",
          "model_name": "LayoutModel",
          "model_module_version": "1.2.0",
          "state": {
            "_model_module": "@jupyter-widgets/base",
            "_model_module_version": "1.2.0",
            "_model_name": "LayoutModel",
            "_view_count": null,
            "_view_module": "@jupyter-widgets/base",
            "_view_module_version": "1.2.0",
            "_view_name": "LayoutView",
            "align_content": null,
            "align_items": null,
            "align_self": null,
            "border": null,
            "bottom": null,
            "display": null,
            "flex": null,
            "flex_flow": null,
            "grid_area": null,
            "grid_auto_columns": null,
            "grid_auto_flow": null,
            "grid_auto_rows": null,
            "grid_column": null,
            "grid_gap": null,
            "grid_row": null,
            "grid_template_areas": null,
            "grid_template_columns": null,
            "grid_template_rows": null,
            "height": null,
            "justify_content": null,
            "justify_items": null,
            "left": null,
            "margin": null,
            "max_height": null,
            "max_width": null,
            "min_height": null,
            "min_width": null,
            "object_fit": null,
            "object_position": null,
            "order": null,
            "overflow": null,
            "overflow_x": null,
            "overflow_y": null,
            "padding": null,
            "right": null,
            "top": null,
            "visibility": null,
            "width": null
          }
        },
        "5e1d11503529490fa13731d0b0985bc6": {
          "model_module": "@jupyter-widgets/controls",
          "model_name": "ProgressStyleModel",
          "model_module_version": "1.5.0",
          "state": {
            "_model_module": "@jupyter-widgets/controls",
            "_model_module_version": "1.5.0",
            "_model_name": "ProgressStyleModel",
            "_view_count": null,
            "_view_module": "@jupyter-widgets/base",
            "_view_module_version": "1.2.0",
            "_view_name": "StyleView",
            "bar_color": null,
            "description_width": ""
          }
        },
        "4f8df0d4c4894530acbb49414777345c": {
          "model_module": "@jupyter-widgets/base",
          "model_name": "LayoutModel",
          "model_module_version": "1.2.0",
          "state": {
            "_model_module": "@jupyter-widgets/base",
            "_model_module_version": "1.2.0",
            "_model_name": "LayoutModel",
            "_view_count": null,
            "_view_module": "@jupyter-widgets/base",
            "_view_module_version": "1.2.0",
            "_view_name": "LayoutView",
            "align_content": null,
            "align_items": null,
            "align_self": null,
            "border": null,
            "bottom": null,
            "display": null,
            "flex": null,
            "flex_flow": null,
            "grid_area": null,
            "grid_auto_columns": null,
            "grid_auto_flow": null,
            "grid_auto_rows": null,
            "grid_column": null,
            "grid_gap": null,
            "grid_row": null,
            "grid_template_areas": null,
            "grid_template_columns": null,
            "grid_template_rows": null,
            "height": null,
            "justify_content": null,
            "justify_items": null,
            "left": null,
            "margin": null,
            "max_height": null,
            "max_width": null,
            "min_height": null,
            "min_width": null,
            "object_fit": null,
            "object_position": null,
            "order": null,
            "overflow": null,
            "overflow_x": null,
            "overflow_y": null,
            "padding": null,
            "right": null,
            "top": null,
            "visibility": null,
            "width": null
          }
        },
        "c17a3c0f89b44133afc4b148bfcddd22": {
          "model_module": "@jupyter-widgets/controls",
          "model_name": "DescriptionStyleModel",
          "model_module_version": "1.5.0",
          "state": {
            "_model_module": "@jupyter-widgets/controls",
            "_model_module_version": "1.5.0",
            "_model_name": "DescriptionStyleModel",
            "_view_count": null,
            "_view_module": "@jupyter-widgets/base",
            "_view_module_version": "1.2.0",
            "_view_name": "StyleView",
            "description_width": ""
          }
        },
        "3058cf56c8664a878761fefb1a900b5d": {
          "model_module": "@jupyter-widgets/controls",
          "model_name": "HBoxModel",
          "model_module_version": "1.5.0",
          "state": {
            "_dom_classes": [],
            "_model_module": "@jupyter-widgets/controls",
            "_model_module_version": "1.5.0",
            "_model_name": "HBoxModel",
            "_view_count": null,
            "_view_module": "@jupyter-widgets/controls",
            "_view_module_version": "1.5.0",
            "_view_name": "HBoxView",
            "box_style": "",
            "children": [
              "IPY_MODEL_ebab606710b542ecb91b876ec5ef0933",
              "IPY_MODEL_4c2e7854713e4123b1e7f697e267bff1",
              "IPY_MODEL_fbd4e858a6a04b3ba2ffe6a6a48a9292"
            ],
            "layout": "IPY_MODEL_4de664ed7b534e159b6f47bec5b54421"
          }
        },
        "ebab606710b542ecb91b876ec5ef0933": {
          "model_module": "@jupyter-widgets/controls",
          "model_name": "HTMLModel",
          "model_module_version": "1.5.0",
          "state": {
            "_dom_classes": [],
            "_model_module": "@jupyter-widgets/controls",
            "_model_module_version": "1.5.0",
            "_model_name": "HTMLModel",
            "_view_count": null,
            "_view_module": "@jupyter-widgets/controls",
            "_view_module_version": "1.5.0",
            "_view_name": "HTMLView",
            "description": "",
            "description_tooltip": null,
            "layout": "IPY_MODEL_178df3022ca04e1293826f25c94fc40c",
            "placeholder": "​",
            "style": "IPY_MODEL_386f12bb267948fe8792a0e28aefc487",
            "value": "Downloading readme: 100%"
          }
        },
        "4c2e7854713e4123b1e7f697e267bff1": {
          "model_module": "@jupyter-widgets/controls",
          "model_name": "FloatProgressModel",
          "model_module_version": "1.5.0",
          "state": {
            "_dom_classes": [],
            "_model_module": "@jupyter-widgets/controls",
            "_model_module_version": "1.5.0",
            "_model_name": "FloatProgressModel",
            "_view_count": null,
            "_view_module": "@jupyter-widgets/controls",
            "_view_module_version": "1.5.0",
            "_view_name": "ProgressView",
            "bar_style": "success",
            "description": "",
            "description_tooltip": null,
            "layout": "IPY_MODEL_7737902e8d8b41c3ac455cd4dedf9e52",
            "max": 9193,
            "min": 0,
            "orientation": "horizontal",
            "style": "IPY_MODEL_9bfbd16c02d442f591955841b16ea6ca",
            "value": 9193
          }
        },
        "fbd4e858a6a04b3ba2ffe6a6a48a9292": {
          "model_module": "@jupyter-widgets/controls",
          "model_name": "HTMLModel",
          "model_module_version": "1.5.0",
          "state": {
            "_dom_classes": [],
            "_model_module": "@jupyter-widgets/controls",
            "_model_module_version": "1.5.0",
            "_model_name": "HTMLModel",
            "_view_count": null,
            "_view_module": "@jupyter-widgets/controls",
            "_view_module_version": "1.5.0",
            "_view_name": "HTMLView",
            "description": "",
            "description_tooltip": null,
            "layout": "IPY_MODEL_3deef8e9365542298097965bb826db51",
            "placeholder": "​",
            "style": "IPY_MODEL_f380e1db58a748eb8e629e45d186418e",
            "value": " 9.19k/9.19k [00:00&lt;00:00, 473kB/s]"
          }
        },
        "4de664ed7b534e159b6f47bec5b54421": {
          "model_module": "@jupyter-widgets/base",
          "model_name": "LayoutModel",
          "model_module_version": "1.2.0",
          "state": {
            "_model_module": "@jupyter-widgets/base",
            "_model_module_version": "1.2.0",
            "_model_name": "LayoutModel",
            "_view_count": null,
            "_view_module": "@jupyter-widgets/base",
            "_view_module_version": "1.2.0",
            "_view_name": "LayoutView",
            "align_content": null,
            "align_items": null,
            "align_self": null,
            "border": null,
            "bottom": null,
            "display": null,
            "flex": null,
            "flex_flow": null,
            "grid_area": null,
            "grid_auto_columns": null,
            "grid_auto_flow": null,
            "grid_auto_rows": null,
            "grid_column": null,
            "grid_gap": null,
            "grid_row": null,
            "grid_template_areas": null,
            "grid_template_columns": null,
            "grid_template_rows": null,
            "height": null,
            "justify_content": null,
            "justify_items": null,
            "left": null,
            "margin": null,
            "max_height": null,
            "max_width": null,
            "min_height": null,
            "min_width": null,
            "object_fit": null,
            "object_position": null,
            "order": null,
            "overflow": null,
            "overflow_x": null,
            "overflow_y": null,
            "padding": null,
            "right": null,
            "top": null,
            "visibility": null,
            "width": null
          }
        },
        "178df3022ca04e1293826f25c94fc40c": {
          "model_module": "@jupyter-widgets/base",
          "model_name": "LayoutModel",
          "model_module_version": "1.2.0",
          "state": {
            "_model_module": "@jupyter-widgets/base",
            "_model_module_version": "1.2.0",
            "_model_name": "LayoutModel",
            "_view_count": null,
            "_view_module": "@jupyter-widgets/base",
            "_view_module_version": "1.2.0",
            "_view_name": "LayoutView",
            "align_content": null,
            "align_items": null,
            "align_self": null,
            "border": null,
            "bottom": null,
            "display": null,
            "flex": null,
            "flex_flow": null,
            "grid_area": null,
            "grid_auto_columns": null,
            "grid_auto_flow": null,
            "grid_auto_rows": null,
            "grid_column": null,
            "grid_gap": null,
            "grid_row": null,
            "grid_template_areas": null,
            "grid_template_columns": null,
            "grid_template_rows": null,
            "height": null,
            "justify_content": null,
            "justify_items": null,
            "left": null,
            "margin": null,
            "max_height": null,
            "max_width": null,
            "min_height": null,
            "min_width": null,
            "object_fit": null,
            "object_position": null,
            "order": null,
            "overflow": null,
            "overflow_x": null,
            "overflow_y": null,
            "padding": null,
            "right": null,
            "top": null,
            "visibility": null,
            "width": null
          }
        },
        "386f12bb267948fe8792a0e28aefc487": {
          "model_module": "@jupyter-widgets/controls",
          "model_name": "DescriptionStyleModel",
          "model_module_version": "1.5.0",
          "state": {
            "_model_module": "@jupyter-widgets/controls",
            "_model_module_version": "1.5.0",
            "_model_name": "DescriptionStyleModel",
            "_view_count": null,
            "_view_module": "@jupyter-widgets/base",
            "_view_module_version": "1.2.0",
            "_view_name": "StyleView",
            "description_width": ""
          }
        },
        "7737902e8d8b41c3ac455cd4dedf9e52": {
          "model_module": "@jupyter-widgets/base",
          "model_name": "LayoutModel",
          "model_module_version": "1.2.0",
          "state": {
            "_model_module": "@jupyter-widgets/base",
            "_model_module_version": "1.2.0",
            "_model_name": "LayoutModel",
            "_view_count": null,
            "_view_module": "@jupyter-widgets/base",
            "_view_module_version": "1.2.0",
            "_view_name": "LayoutView",
            "align_content": null,
            "align_items": null,
            "align_self": null,
            "border": null,
            "bottom": null,
            "display": null,
            "flex": null,
            "flex_flow": null,
            "grid_area": null,
            "grid_auto_columns": null,
            "grid_auto_flow": null,
            "grid_auto_rows": null,
            "grid_column": null,
            "grid_gap": null,
            "grid_row": null,
            "grid_template_areas": null,
            "grid_template_columns": null,
            "grid_template_rows": null,
            "height": null,
            "justify_content": null,
            "justify_items": null,
            "left": null,
            "margin": null,
            "max_height": null,
            "max_width": null,
            "min_height": null,
            "min_width": null,
            "object_fit": null,
            "object_position": null,
            "order": null,
            "overflow": null,
            "overflow_x": null,
            "overflow_y": null,
            "padding": null,
            "right": null,
            "top": null,
            "visibility": null,
            "width": null
          }
        },
        "9bfbd16c02d442f591955841b16ea6ca": {
          "model_module": "@jupyter-widgets/controls",
          "model_name": "ProgressStyleModel",
          "model_module_version": "1.5.0",
          "state": {
            "_model_module": "@jupyter-widgets/controls",
            "_model_module_version": "1.5.0",
            "_model_name": "ProgressStyleModel",
            "_view_count": null,
            "_view_module": "@jupyter-widgets/base",
            "_view_module_version": "1.2.0",
            "_view_name": "StyleView",
            "bar_color": null,
            "description_width": ""
          }
        },
        "3deef8e9365542298097965bb826db51": {
          "model_module": "@jupyter-widgets/base",
          "model_name": "LayoutModel",
          "model_module_version": "1.2.0",
          "state": {
            "_model_module": "@jupyter-widgets/base",
            "_model_module_version": "1.2.0",
            "_model_name": "LayoutModel",
            "_view_count": null,
            "_view_module": "@jupyter-widgets/base",
            "_view_module_version": "1.2.0",
            "_view_name": "LayoutView",
            "align_content": null,
            "align_items": null,
            "align_self": null,
            "border": null,
            "bottom": null,
            "display": null,
            "flex": null,
            "flex_flow": null,
            "grid_area": null,
            "grid_auto_columns": null,
            "grid_auto_flow": null,
            "grid_auto_rows": null,
            "grid_column": null,
            "grid_gap": null,
            "grid_row": null,
            "grid_template_areas": null,
            "grid_template_columns": null,
            "grid_template_rows": null,
            "height": null,
            "justify_content": null,
            "justify_items": null,
            "left": null,
            "margin": null,
            "max_height": null,
            "max_width": null,
            "min_height": null,
            "min_width": null,
            "object_fit": null,
            "object_position": null,
            "order": null,
            "overflow": null,
            "overflow_x": null,
            "overflow_y": null,
            "padding": null,
            "right": null,
            "top": null,
            "visibility": null,
            "width": null
          }
        },
        "f380e1db58a748eb8e629e45d186418e": {
          "model_module": "@jupyter-widgets/controls",
          "model_name": "DescriptionStyleModel",
          "model_module_version": "1.5.0",
          "state": {
            "_model_module": "@jupyter-widgets/controls",
            "_model_module_version": "1.5.0",
            "_model_name": "DescriptionStyleModel",
            "_view_count": null,
            "_view_module": "@jupyter-widgets/base",
            "_view_module_version": "1.2.0",
            "_view_name": "StyleView",
            "description_width": ""
          }
        },
        "7a8235e41d08417ea987c44c3a294b36": {
          "model_module": "@jupyter-widgets/controls",
          "model_name": "HBoxModel",
          "model_module_version": "1.5.0",
          "state": {
            "_dom_classes": [],
            "_model_module": "@jupyter-widgets/controls",
            "_model_module_version": "1.5.0",
            "_model_name": "HBoxModel",
            "_view_count": null,
            "_view_module": "@jupyter-widgets/controls",
            "_view_module_version": "1.5.0",
            "_view_name": "HBoxView",
            "box_style": "",
            "children": [
              "IPY_MODEL_ff1f147754b348128b8aa1a3cc91bf73",
              "IPY_MODEL_8aa26d321da645c3b1ee30c27fefe0d1",
              "IPY_MODEL_a6b02831855d48c0aeda6b8379760226"
            ],
            "layout": "IPY_MODEL_5e170f9419544550995857f1da0324d0"
          }
        },
        "ff1f147754b348128b8aa1a3cc91bf73": {
          "model_module": "@jupyter-widgets/controls",
          "model_name": "HTMLModel",
          "model_module_version": "1.5.0",
          "state": {
            "_dom_classes": [],
            "_model_module": "@jupyter-widgets/controls",
            "_model_module_version": "1.5.0",
            "_model_name": "HTMLModel",
            "_view_count": null,
            "_view_module": "@jupyter-widgets/controls",
            "_view_module_version": "1.5.0",
            "_view_name": "HTMLView",
            "description": "",
            "description_tooltip": null,
            "layout": "IPY_MODEL_4b528b1942494b58b51dc3f18d7cb9c5",
            "placeholder": "​",
            "style": "IPY_MODEL_a9f958d3bd954148974ff0f9bce3c19d",
            "value": "Downloading data: 100%"
          }
        },
        "8aa26d321da645c3b1ee30c27fefe0d1": {
          "model_module": "@jupyter-widgets/controls",
          "model_name": "FloatProgressModel",
          "model_module_version": "1.5.0",
          "state": {
            "_dom_classes": [],
            "_model_module": "@jupyter-widgets/controls",
            "_model_module_version": "1.5.0",
            "_model_name": "FloatProgressModel",
            "_view_count": null,
            "_view_module": "@jupyter-widgets/controls",
            "_view_module_version": "1.5.0",
            "_view_name": "ProgressView",
            "bar_style": "success",
            "description": "",
            "description_tooltip": null,
            "layout": "IPY_MODEL_5b1d9a6ec0704db8b84c3f422f028379",
            "max": 566426227,
            "min": 0,
            "orientation": "horizontal",
            "style": "IPY_MODEL_1b0747a08e1b460dadaef21ed7eff893",
            "value": 566426227
          }
        },
        "a6b02831855d48c0aeda6b8379760226": {
          "model_module": "@jupyter-widgets/controls",
          "model_name": "HTMLModel",
          "model_module_version": "1.5.0",
          "state": {
            "_dom_classes": [],
            "_model_module": "@jupyter-widgets/controls",
            "_model_module_version": "1.5.0",
            "_model_name": "HTMLModel",
            "_view_count": null,
            "_view_module": "@jupyter-widgets/controls",
            "_view_module_version": "1.5.0",
            "_view_name": "HTMLView",
            "description": "",
            "description_tooltip": null,
            "layout": "IPY_MODEL_ce7b41c6fe5147d1823c9e4a0cca7955",
            "placeholder": "​",
            "style": "IPY_MODEL_7345ef5063be468ca4f174dc897768c6",
            "value": " 566M/566M [00:09&lt;00:00, 67.6MB/s]"
          }
        },
        "5e170f9419544550995857f1da0324d0": {
          "model_module": "@jupyter-widgets/base",
          "model_name": "LayoutModel",
          "model_module_version": "1.2.0",
          "state": {
            "_model_module": "@jupyter-widgets/base",
            "_model_module_version": "1.2.0",
            "_model_name": "LayoutModel",
            "_view_count": null,
            "_view_module": "@jupyter-widgets/base",
            "_view_module_version": "1.2.0",
            "_view_name": "LayoutView",
            "align_content": null,
            "align_items": null,
            "align_self": null,
            "border": null,
            "bottom": null,
            "display": null,
            "flex": null,
            "flex_flow": null,
            "grid_area": null,
            "grid_auto_columns": null,
            "grid_auto_flow": null,
            "grid_auto_rows": null,
            "grid_column": null,
            "grid_gap": null,
            "grid_row": null,
            "grid_template_areas": null,
            "grid_template_columns": null,
            "grid_template_rows": null,
            "height": null,
            "justify_content": null,
            "justify_items": null,
            "left": null,
            "margin": null,
            "max_height": null,
            "max_width": null,
            "min_height": null,
            "min_width": null,
            "object_fit": null,
            "object_position": null,
            "order": null,
            "overflow": null,
            "overflow_x": null,
            "overflow_y": null,
            "padding": null,
            "right": null,
            "top": null,
            "visibility": null,
            "width": null
          }
        },
        "4b528b1942494b58b51dc3f18d7cb9c5": {
          "model_module": "@jupyter-widgets/base",
          "model_name": "LayoutModel",
          "model_module_version": "1.2.0",
          "state": {
            "_model_module": "@jupyter-widgets/base",
            "_model_module_version": "1.2.0",
            "_model_name": "LayoutModel",
            "_view_count": null,
            "_view_module": "@jupyter-widgets/base",
            "_view_module_version": "1.2.0",
            "_view_name": "LayoutView",
            "align_content": null,
            "align_items": null,
            "align_self": null,
            "border": null,
            "bottom": null,
            "display": null,
            "flex": null,
            "flex_flow": null,
            "grid_area": null,
            "grid_auto_columns": null,
            "grid_auto_flow": null,
            "grid_auto_rows": null,
            "grid_column": null,
            "grid_gap": null,
            "grid_row": null,
            "grid_template_areas": null,
            "grid_template_columns": null,
            "grid_template_rows": null,
            "height": null,
            "justify_content": null,
            "justify_items": null,
            "left": null,
            "margin": null,
            "max_height": null,
            "max_width": null,
            "min_height": null,
            "min_width": null,
            "object_fit": null,
            "object_position": null,
            "order": null,
            "overflow": null,
            "overflow_x": null,
            "overflow_y": null,
            "padding": null,
            "right": null,
            "top": null,
            "visibility": null,
            "width": null
          }
        },
        "a9f958d3bd954148974ff0f9bce3c19d": {
          "model_module": "@jupyter-widgets/controls",
          "model_name": "DescriptionStyleModel",
          "model_module_version": "1.5.0",
          "state": {
            "_model_module": "@jupyter-widgets/controls",
            "_model_module_version": "1.5.0",
            "_model_name": "DescriptionStyleModel",
            "_view_count": null,
            "_view_module": "@jupyter-widgets/base",
            "_view_module_version": "1.2.0",
            "_view_name": "StyleView",
            "description_width": ""
          }
        },
        "5b1d9a6ec0704db8b84c3f422f028379": {
          "model_module": "@jupyter-widgets/base",
          "model_name": "LayoutModel",
          "model_module_version": "1.2.0",
          "state": {
            "_model_module": "@jupyter-widgets/base",
            "_model_module_version": "1.2.0",
            "_model_name": "LayoutModel",
            "_view_count": null,
            "_view_module": "@jupyter-widgets/base",
            "_view_module_version": "1.2.0",
            "_view_name": "LayoutView",
            "align_content": null,
            "align_items": null,
            "align_self": null,
            "border": null,
            "bottom": null,
            "display": null,
            "flex": null,
            "flex_flow": null,
            "grid_area": null,
            "grid_auto_columns": null,
            "grid_auto_flow": null,
            "grid_auto_rows": null,
            "grid_column": null,
            "grid_gap": null,
            "grid_row": null,
            "grid_template_areas": null,
            "grid_template_columns": null,
            "grid_template_rows": null,
            "height": null,
            "justify_content": null,
            "justify_items": null,
            "left": null,
            "margin": null,
            "max_height": null,
            "max_width": null,
            "min_height": null,
            "min_width": null,
            "object_fit": null,
            "object_position": null,
            "order": null,
            "overflow": null,
            "overflow_x": null,
            "overflow_y": null,
            "padding": null,
            "right": null,
            "top": null,
            "visibility": null,
            "width": null
          }
        },
        "1b0747a08e1b460dadaef21ed7eff893": {
          "model_module": "@jupyter-widgets/controls",
          "model_name": "ProgressStyleModel",
          "model_module_version": "1.5.0",
          "state": {
            "_model_module": "@jupyter-widgets/controls",
            "_model_module_version": "1.5.0",
            "_model_name": "ProgressStyleModel",
            "_view_count": null,
            "_view_module": "@jupyter-widgets/base",
            "_view_module_version": "1.2.0",
            "_view_name": "StyleView",
            "bar_color": null,
            "description_width": ""
          }
        },
        "ce7b41c6fe5147d1823c9e4a0cca7955": {
          "model_module": "@jupyter-widgets/base",
          "model_name": "LayoutModel",
          "model_module_version": "1.2.0",
          "state": {
            "_model_module": "@jupyter-widgets/base",
            "_model_module_version": "1.2.0",
            "_model_name": "LayoutModel",
            "_view_count": null,
            "_view_module": "@jupyter-widgets/base",
            "_view_module_version": "1.2.0",
            "_view_name": "LayoutView",
            "align_content": null,
            "align_items": null,
            "align_self": null,
            "border": null,
            "bottom": null,
            "display": null,
            "flex": null,
            "flex_flow": null,
            "grid_area": null,
            "grid_auto_columns": null,
            "grid_auto_flow": null,
            "grid_auto_rows": null,
            "grid_column": null,
            "grid_gap": null,
            "grid_row": null,
            "grid_template_areas": null,
            "grid_template_columns": null,
            "grid_template_rows": null,
            "height": null,
            "justify_content": null,
            "justify_items": null,
            "left": null,
            "margin": null,
            "max_height": null,
            "max_width": null,
            "min_height": null,
            "min_width": null,
            "object_fit": null,
            "object_position": null,
            "order": null,
            "overflow": null,
            "overflow_x": null,
            "overflow_y": null,
            "padding": null,
            "right": null,
            "top": null,
            "visibility": null,
            "width": null
          }
        },
        "7345ef5063be468ca4f174dc897768c6": {
          "model_module": "@jupyter-widgets/controls",
          "model_name": "DescriptionStyleModel",
          "model_module_version": "1.5.0",
          "state": {
            "_model_module": "@jupyter-widgets/controls",
            "_model_module_version": "1.5.0",
            "_model_name": "DescriptionStyleModel",
            "_view_count": null,
            "_view_module": "@jupyter-widgets/base",
            "_view_module_version": "1.2.0",
            "_view_name": "StyleView",
            "description_width": ""
          }
        },
        "a068ed20d2cd4dc598dcefc8fd67ac2e": {
          "model_module": "@jupyter-widgets/controls",
          "model_name": "HBoxModel",
          "model_module_version": "1.5.0",
          "state": {
            "_dom_classes": [],
            "_model_module": "@jupyter-widgets/controls",
            "_model_module_version": "1.5.0",
            "_model_name": "HBoxModel",
            "_view_count": null,
            "_view_module": "@jupyter-widgets/controls",
            "_view_module_version": "1.5.0",
            "_view_name": "HBoxView",
            "box_style": "",
            "children": [
              "IPY_MODEL_9195030792b642d1a0fe28391ad153c8",
              "IPY_MODEL_d86567500e0845fe9a702ad9ee1333f1",
              "IPY_MODEL_d9c7da29d970451183916eecfe994bac"
            ],
            "layout": "IPY_MODEL_ce8cea02a7be40298775e5f3dc820173"
          }
        },
        "9195030792b642d1a0fe28391ad153c8": {
          "model_module": "@jupyter-widgets/controls",
          "model_name": "HTMLModel",
          "model_module_version": "1.5.0",
          "state": {
            "_dom_classes": [],
            "_model_module": "@jupyter-widgets/controls",
            "_model_module_version": "1.5.0",
            "_model_name": "HTMLModel",
            "_view_count": null,
            "_view_module": "@jupyter-widgets/controls",
            "_view_module_version": "1.5.0",
            "_view_name": "HTMLView",
            "description": "",
            "description_tooltip": null,
            "layout": "IPY_MODEL_6822b72628f944fc96be3257de136c45",
            "placeholder": "​",
            "style": "IPY_MODEL_603867594077409b98e78c56984a4c3d",
            "value": "Downloading data: 100%"
          }
        },
        "d86567500e0845fe9a702ad9ee1333f1": {
          "model_module": "@jupyter-widgets/controls",
          "model_name": "FloatProgressModel",
          "model_module_version": "1.5.0",
          "state": {
            "_dom_classes": [],
            "_model_module": "@jupyter-widgets/controls",
            "_model_module_version": "1.5.0",
            "_model_name": "FloatProgressModel",
            "_view_count": null,
            "_view_module": "@jupyter-widgets/controls",
            "_view_module_version": "1.5.0",
            "_view_name": "ProgressView",
            "bar_style": "success",
            "description": "",
            "description_tooltip": null,
            "layout": "IPY_MODEL_ba96f82202124b868174895742da74e7",
            "max": 47454698,
            "min": 0,
            "orientation": "horizontal",
            "style": "IPY_MODEL_9d6229ced8be44a492a0f9d66d7ed8d6",
            "value": 47454698
          }
        },
        "d9c7da29d970451183916eecfe994bac": {
          "model_module": "@jupyter-widgets/controls",
          "model_name": "HTMLModel",
          "model_module_version": "1.5.0",
          "state": {
            "_dom_classes": [],
            "_model_module": "@jupyter-widgets/controls",
            "_model_module_version": "1.5.0",
            "_model_name": "HTMLModel",
            "_view_count": null,
            "_view_module": "@jupyter-widgets/controls",
            "_view_module_version": "1.5.0",
            "_view_name": "HTMLView",
            "description": "",
            "description_tooltip": null,
            "layout": "IPY_MODEL_5511e915817948bca033f70a507f1b74",
            "placeholder": "​",
            "style": "IPY_MODEL_7a1ca50025434c1fa311d25430c2a430",
            "value": " 47.5M/47.5M [00:00&lt;00:00, 53.4MB/s]"
          }
        },
        "ce8cea02a7be40298775e5f3dc820173": {
          "model_module": "@jupyter-widgets/base",
          "model_name": "LayoutModel",
          "model_module_version": "1.2.0",
          "state": {
            "_model_module": "@jupyter-widgets/base",
            "_model_module_version": "1.2.0",
            "_model_name": "LayoutModel",
            "_view_count": null,
            "_view_module": "@jupyter-widgets/base",
            "_view_module_version": "1.2.0",
            "_view_name": "LayoutView",
            "align_content": null,
            "align_items": null,
            "align_self": null,
            "border": null,
            "bottom": null,
            "display": null,
            "flex": null,
            "flex_flow": null,
            "grid_area": null,
            "grid_auto_columns": null,
            "grid_auto_flow": null,
            "grid_auto_rows": null,
            "grid_column": null,
            "grid_gap": null,
            "grid_row": null,
            "grid_template_areas": null,
            "grid_template_columns": null,
            "grid_template_rows": null,
            "height": null,
            "justify_content": null,
            "justify_items": null,
            "left": null,
            "margin": null,
            "max_height": null,
            "max_width": null,
            "min_height": null,
            "min_width": null,
            "object_fit": null,
            "object_position": null,
            "order": null,
            "overflow": null,
            "overflow_x": null,
            "overflow_y": null,
            "padding": null,
            "right": null,
            "top": null,
            "visibility": null,
            "width": null
          }
        },
        "6822b72628f944fc96be3257de136c45": {
          "model_module": "@jupyter-widgets/base",
          "model_name": "LayoutModel",
          "model_module_version": "1.2.0",
          "state": {
            "_model_module": "@jupyter-widgets/base",
            "_model_module_version": "1.2.0",
            "_model_name": "LayoutModel",
            "_view_count": null,
            "_view_module": "@jupyter-widgets/base",
            "_view_module_version": "1.2.0",
            "_view_name": "LayoutView",
            "align_content": null,
            "align_items": null,
            "align_self": null,
            "border": null,
            "bottom": null,
            "display": null,
            "flex": null,
            "flex_flow": null,
            "grid_area": null,
            "grid_auto_columns": null,
            "grid_auto_flow": null,
            "grid_auto_rows": null,
            "grid_column": null,
            "grid_gap": null,
            "grid_row": null,
            "grid_template_areas": null,
            "grid_template_columns": null,
            "grid_template_rows": null,
            "height": null,
            "justify_content": null,
            "justify_items": null,
            "left": null,
            "margin": null,
            "max_height": null,
            "max_width": null,
            "min_height": null,
            "min_width": null,
            "object_fit": null,
            "object_position": null,
            "order": null,
            "overflow": null,
            "overflow_x": null,
            "overflow_y": null,
            "padding": null,
            "right": null,
            "top": null,
            "visibility": null,
            "width": null
          }
        },
        "603867594077409b98e78c56984a4c3d": {
          "model_module": "@jupyter-widgets/controls",
          "model_name": "DescriptionStyleModel",
          "model_module_version": "1.5.0",
          "state": {
            "_model_module": "@jupyter-widgets/controls",
            "_model_module_version": "1.5.0",
            "_model_name": "DescriptionStyleModel",
            "_view_count": null,
            "_view_module": "@jupyter-widgets/base",
            "_view_module_version": "1.2.0",
            "_view_name": "StyleView",
            "description_width": ""
          }
        },
        "ba96f82202124b868174895742da74e7": {
          "model_module": "@jupyter-widgets/base",
          "model_name": "LayoutModel",
          "model_module_version": "1.2.0",
          "state": {
            "_model_module": "@jupyter-widgets/base",
            "_model_module_version": "1.2.0",
            "_model_name": "LayoutModel",
            "_view_count": null,
            "_view_module": "@jupyter-widgets/base",
            "_view_module_version": "1.2.0",
            "_view_name": "LayoutView",
            "align_content": null,
            "align_items": null,
            "align_self": null,
            "border": null,
            "bottom": null,
            "display": null,
            "flex": null,
            "flex_flow": null,
            "grid_area": null,
            "grid_auto_columns": null,
            "grid_auto_flow": null,
            "grid_auto_rows": null,
            "grid_column": null,
            "grid_gap": null,
            "grid_row": null,
            "grid_template_areas": null,
            "grid_template_columns": null,
            "grid_template_rows": null,
            "height": null,
            "justify_content": null,
            "justify_items": null,
            "left": null,
            "margin": null,
            "max_height": null,
            "max_width": null,
            "min_height": null,
            "min_width": null,
            "object_fit": null,
            "object_position": null,
            "order": null,
            "overflow": null,
            "overflow_x": null,
            "overflow_y": null,
            "padding": null,
            "right": null,
            "top": null,
            "visibility": null,
            "width": null
          }
        },
        "9d6229ced8be44a492a0f9d66d7ed8d6": {
          "model_module": "@jupyter-widgets/controls",
          "model_name": "ProgressStyleModel",
          "model_module_version": "1.5.0",
          "state": {
            "_model_module": "@jupyter-widgets/controls",
            "_model_module_version": "1.5.0",
            "_model_name": "ProgressStyleModel",
            "_view_count": null,
            "_view_module": "@jupyter-widgets/base",
            "_view_module_version": "1.2.0",
            "_view_name": "StyleView",
            "bar_color": null,
            "description_width": ""
          }
        },
        "5511e915817948bca033f70a507f1b74": {
          "model_module": "@jupyter-widgets/base",
          "model_name": "LayoutModel",
          "model_module_version": "1.2.0",
          "state": {
            "_model_module": "@jupyter-widgets/base",
            "_model_module_version": "1.2.0",
            "_model_name": "LayoutModel",
            "_view_count": null,
            "_view_module": "@jupyter-widgets/base",
            "_view_module_version": "1.2.0",
            "_view_name": "LayoutView",
            "align_content": null,
            "align_items": null,
            "align_self": null,
            "border": null,
            "bottom": null,
            "display": null,
            "flex": null,
            "flex_flow": null,
            "grid_area": null,
            "grid_auto_columns": null,
            "grid_auto_flow": null,
            "grid_auto_rows": null,
            "grid_column": null,
            "grid_gap": null,
            "grid_row": null,
            "grid_template_areas": null,
            "grid_template_columns": null,
            "grid_template_rows": null,
            "height": null,
            "justify_content": null,
            "justify_items": null,
            "left": null,
            "margin": null,
            "max_height": null,
            "max_width": null,
            "min_height": null,
            "min_width": null,
            "object_fit": null,
            "object_position": null,
            "order": null,
            "overflow": null,
            "overflow_x": null,
            "overflow_y": null,
            "padding": null,
            "right": null,
            "top": null,
            "visibility": null,
            "width": null
          }
        },
        "7a1ca50025434c1fa311d25430c2a430": {
          "model_module": "@jupyter-widgets/controls",
          "model_name": "DescriptionStyleModel",
          "model_module_version": "1.5.0",
          "state": {
            "_model_module": "@jupyter-widgets/controls",
            "_model_module_version": "1.5.0",
            "_model_name": "DescriptionStyleModel",
            "_view_count": null,
            "_view_module": "@jupyter-widgets/base",
            "_view_module_version": "1.2.0",
            "_view_name": "StyleView",
            "description_width": ""
          }
        },
        "51e4bf725d914dbcb5b22ce7eee1cb71": {
          "model_module": "@jupyter-widgets/controls",
          "model_name": "HBoxModel",
          "model_module_version": "1.5.0",
          "state": {
            "_dom_classes": [],
            "_model_module": "@jupyter-widgets/controls",
            "_model_module_version": "1.5.0",
            "_model_name": "HBoxModel",
            "_view_count": null,
            "_view_module": "@jupyter-widgets/controls",
            "_view_module_version": "1.5.0",
            "_view_name": "HBoxView",
            "box_style": "",
            "children": [
              "IPY_MODEL_87a07a3b45c64dc7b71d2483f9ae96f2",
              "IPY_MODEL_bf390c55351a48d7950481e5fa181624",
              "IPY_MODEL_7e7ed794a9fe44328101082ccced51d8"
            ],
            "layout": "IPY_MODEL_6bca74cbf7364647a275f2a837daf4bd"
          }
        },
        "87a07a3b45c64dc7b71d2483f9ae96f2": {
          "model_module": "@jupyter-widgets/controls",
          "model_name": "HTMLModel",
          "model_module_version": "1.5.0",
          "state": {
            "_dom_classes": [],
            "_model_module": "@jupyter-widgets/controls",
            "_model_module_version": "1.5.0",
            "_model_name": "HTMLModel",
            "_view_count": null,
            "_view_module": "@jupyter-widgets/controls",
            "_view_module_version": "1.5.0",
            "_view_name": "HTMLView",
            "description": "",
            "description_tooltip": null,
            "layout": "IPY_MODEL_dde4181da07642a1aa10d2c6c6ea69ae",
            "placeholder": "​",
            "style": "IPY_MODEL_1aaeb5ad15554416a4fd485bcd3cd933",
            "value": "Downloading data: 100%"
          }
        },
        "bf390c55351a48d7950481e5fa181624": {
          "model_module": "@jupyter-widgets/controls",
          "model_name": "FloatProgressModel",
          "model_module_version": "1.5.0",
          "state": {
            "_dom_classes": [],
            "_model_module": "@jupyter-widgets/controls",
            "_model_module_version": "1.5.0",
            "_model_name": "FloatProgressModel",
            "_view_count": null,
            "_view_module": "@jupyter-widgets/controls",
            "_view_module_version": "1.5.0",
            "_view_name": "ProgressView",
            "bar_style": "success",
            "description": "",
            "description_tooltip": null,
            "layout": "IPY_MODEL_17e6d560059248b3bb2ac81f97100f8a",
            "max": 46213747,
            "min": 0,
            "orientation": "horizontal",
            "style": "IPY_MODEL_526c2748cd384cb986e50b90387f7986",
            "value": 46213747
          }
        },
        "7e7ed794a9fe44328101082ccced51d8": {
          "model_module": "@jupyter-widgets/controls",
          "model_name": "HTMLModel",
          "model_module_version": "1.5.0",
          "state": {
            "_dom_classes": [],
            "_model_module": "@jupyter-widgets/controls",
            "_model_module_version": "1.5.0",
            "_model_name": "HTMLModel",
            "_view_count": null,
            "_view_module": "@jupyter-widgets/controls",
            "_view_module_version": "1.5.0",
            "_view_name": "HTMLView",
            "description": "",
            "description_tooltip": null,
            "layout": "IPY_MODEL_e175da28a03444f89620b49316bb2262",
            "placeholder": "​",
            "style": "IPY_MODEL_1a566567464f49298fe9b44ac504c1e3",
            "value": " 46.2M/46.2M [00:00&lt;00:00, 61.2MB/s]"
          }
        },
        "6bca74cbf7364647a275f2a837daf4bd": {
          "model_module": "@jupyter-widgets/base",
          "model_name": "LayoutModel",
          "model_module_version": "1.2.0",
          "state": {
            "_model_module": "@jupyter-widgets/base",
            "_model_module_version": "1.2.0",
            "_model_name": "LayoutModel",
            "_view_count": null,
            "_view_module": "@jupyter-widgets/base",
            "_view_module_version": "1.2.0",
            "_view_name": "LayoutView",
            "align_content": null,
            "align_items": null,
            "align_self": null,
            "border": null,
            "bottom": null,
            "display": null,
            "flex": null,
            "flex_flow": null,
            "grid_area": null,
            "grid_auto_columns": null,
            "grid_auto_flow": null,
            "grid_auto_rows": null,
            "grid_column": null,
            "grid_gap": null,
            "grid_row": null,
            "grid_template_areas": null,
            "grid_template_columns": null,
            "grid_template_rows": null,
            "height": null,
            "justify_content": null,
            "justify_items": null,
            "left": null,
            "margin": null,
            "max_height": null,
            "max_width": null,
            "min_height": null,
            "min_width": null,
            "object_fit": null,
            "object_position": null,
            "order": null,
            "overflow": null,
            "overflow_x": null,
            "overflow_y": null,
            "padding": null,
            "right": null,
            "top": null,
            "visibility": null,
            "width": null
          }
        },
        "dde4181da07642a1aa10d2c6c6ea69ae": {
          "model_module": "@jupyter-widgets/base",
          "model_name": "LayoutModel",
          "model_module_version": "1.2.0",
          "state": {
            "_model_module": "@jupyter-widgets/base",
            "_model_module_version": "1.2.0",
            "_model_name": "LayoutModel",
            "_view_count": null,
            "_view_module": "@jupyter-widgets/base",
            "_view_module_version": "1.2.0",
            "_view_name": "LayoutView",
            "align_content": null,
            "align_items": null,
            "align_self": null,
            "border": null,
            "bottom": null,
            "display": null,
            "flex": null,
            "flex_flow": null,
            "grid_area": null,
            "grid_auto_columns": null,
            "grid_auto_flow": null,
            "grid_auto_rows": null,
            "grid_column": null,
            "grid_gap": null,
            "grid_row": null,
            "grid_template_areas": null,
            "grid_template_columns": null,
            "grid_template_rows": null,
            "height": null,
            "justify_content": null,
            "justify_items": null,
            "left": null,
            "margin": null,
            "max_height": null,
            "max_width": null,
            "min_height": null,
            "min_width": null,
            "object_fit": null,
            "object_position": null,
            "order": null,
            "overflow": null,
            "overflow_x": null,
            "overflow_y": null,
            "padding": null,
            "right": null,
            "top": null,
            "visibility": null,
            "width": null
          }
        },
        "1aaeb5ad15554416a4fd485bcd3cd933": {
          "model_module": "@jupyter-widgets/controls",
          "model_name": "DescriptionStyleModel",
          "model_module_version": "1.5.0",
          "state": {
            "_model_module": "@jupyter-widgets/controls",
            "_model_module_version": "1.5.0",
            "_model_name": "DescriptionStyleModel",
            "_view_count": null,
            "_view_module": "@jupyter-widgets/base",
            "_view_module_version": "1.2.0",
            "_view_name": "StyleView",
            "description_width": ""
          }
        },
        "17e6d560059248b3bb2ac81f97100f8a": {
          "model_module": "@jupyter-widgets/base",
          "model_name": "LayoutModel",
          "model_module_version": "1.2.0",
          "state": {
            "_model_module": "@jupyter-widgets/base",
            "_model_module_version": "1.2.0",
            "_model_name": "LayoutModel",
            "_view_count": null,
            "_view_module": "@jupyter-widgets/base",
            "_view_module_version": "1.2.0",
            "_view_name": "LayoutView",
            "align_content": null,
            "align_items": null,
            "align_self": null,
            "border": null,
            "bottom": null,
            "display": null,
            "flex": null,
            "flex_flow": null,
            "grid_area": null,
            "grid_auto_columns": null,
            "grid_auto_flow": null,
            "grid_auto_rows": null,
            "grid_column": null,
            "grid_gap": null,
            "grid_row": null,
            "grid_template_areas": null,
            "grid_template_columns": null,
            "grid_template_rows": null,
            "height": null,
            "justify_content": null,
            "justify_items": null,
            "left": null,
            "margin": null,
            "max_height": null,
            "max_width": null,
            "min_height": null,
            "min_width": null,
            "object_fit": null,
            "object_position": null,
            "order": null,
            "overflow": null,
            "overflow_x": null,
            "overflow_y": null,
            "padding": null,
            "right": null,
            "top": null,
            "visibility": null,
            "width": null
          }
        },
        "526c2748cd384cb986e50b90387f7986": {
          "model_module": "@jupyter-widgets/controls",
          "model_name": "ProgressStyleModel",
          "model_module_version": "1.5.0",
          "state": {
            "_model_module": "@jupyter-widgets/controls",
            "_model_module_version": "1.5.0",
            "_model_name": "ProgressStyleModel",
            "_view_count": null,
            "_view_module": "@jupyter-widgets/base",
            "_view_module_version": "1.2.0",
            "_view_name": "StyleView",
            "bar_color": null,
            "description_width": ""
          }
        },
        "e175da28a03444f89620b49316bb2262": {
          "model_module": "@jupyter-widgets/base",
          "model_name": "LayoutModel",
          "model_module_version": "1.2.0",
          "state": {
            "_model_module": "@jupyter-widgets/base",
            "_model_module_version": "1.2.0",
            "_model_name": "LayoutModel",
            "_view_count": null,
            "_view_module": "@jupyter-widgets/base",
            "_view_module_version": "1.2.0",
            "_view_name": "LayoutView",
            "align_content": null,
            "align_items": null,
            "align_self": null,
            "border": null,
            "bottom": null,
            "display": null,
            "flex": null,
            "flex_flow": null,
            "grid_area": null,
            "grid_auto_columns": null,
            "grid_auto_flow": null,
            "grid_auto_rows": null,
            "grid_column": null,
            "grid_gap": null,
            "grid_row": null,
            "grid_template_areas": null,
            "grid_template_columns": null,
            "grid_template_rows": null,
            "height": null,
            "justify_content": null,
            "justify_items": null,
            "left": null,
            "margin": null,
            "max_height": null,
            "max_width": null,
            "min_height": null,
            "min_width": null,
            "object_fit": null,
            "object_position": null,
            "order": null,
            "overflow": null,
            "overflow_x": null,
            "overflow_y": null,
            "padding": null,
            "right": null,
            "top": null,
            "visibility": null,
            "width": null
          }
        },
        "1a566567464f49298fe9b44ac504c1e3": {
          "model_module": "@jupyter-widgets/controls",
          "model_name": "DescriptionStyleModel",
          "model_module_version": "1.5.0",
          "state": {
            "_model_module": "@jupyter-widgets/controls",
            "_model_module_version": "1.5.0",
            "_model_name": "DescriptionStyleModel",
            "_view_count": null,
            "_view_module": "@jupyter-widgets/base",
            "_view_module_version": "1.2.0",
            "_view_name": "StyleView",
            "description_width": ""
          }
        },
        "009f33aaf672420f92986af3ff568485": {
          "model_module": "@jupyter-widgets/controls",
          "model_name": "HBoxModel",
          "model_module_version": "1.5.0",
          "state": {
            "_dom_classes": [],
            "_model_module": "@jupyter-widgets/controls",
            "_model_module_version": "1.5.0",
            "_model_name": "HBoxModel",
            "_view_count": null,
            "_view_module": "@jupyter-widgets/controls",
            "_view_module_version": "1.5.0",
            "_view_name": "HBoxView",
            "box_style": "",
            "children": [
              "IPY_MODEL_b7f3a3cbb6574ce5a98c6bb0ef0ed9d1",
              "IPY_MODEL_bd997e97ea01462b8e26dfc5efcb6ca0",
              "IPY_MODEL_ed0dba51f5d04a31876764c79eeea495"
            ],
            "layout": "IPY_MODEL_d67a0070791c4dc4b61bf5ef4aa05012"
          }
        },
        "b7f3a3cbb6574ce5a98c6bb0ef0ed9d1": {
          "model_module": "@jupyter-widgets/controls",
          "model_name": "HTMLModel",
          "model_module_version": "1.5.0",
          "state": {
            "_dom_classes": [],
            "_model_module": "@jupyter-widgets/controls",
            "_model_module_version": "1.5.0",
            "_model_name": "HTMLModel",
            "_view_count": null,
            "_view_module": "@jupyter-widgets/controls",
            "_view_module_version": "1.5.0",
            "_view_name": "HTMLView",
            "description": "",
            "description_tooltip": null,
            "layout": "IPY_MODEL_f99ab1448de54e9bba3d6d5a5167cf5c",
            "placeholder": "​",
            "style": "IPY_MODEL_bcdbe6f9c7d440ba9aaa69c18dd18531",
            "value": "Generating train split: 100%"
          }
        },
        "bd997e97ea01462b8e26dfc5efcb6ca0": {
          "model_module": "@jupyter-widgets/controls",
          "model_name": "FloatProgressModel",
          "model_module_version": "1.5.0",
          "state": {
            "_dom_classes": [],
            "_model_module": "@jupyter-widgets/controls",
            "_model_module_version": "1.5.0",
            "_model_name": "FloatProgressModel",
            "_view_count": null,
            "_view_module": "@jupyter-widgets/controls",
            "_view_module_version": "1.5.0",
            "_view_name": "ProgressView",
            "bar_style": "success",
            "description": "",
            "description_tooltip": null,
            "layout": "IPY_MODEL_ba194cf150bf4b0d890dc513ce2418a1",
            "max": 90447,
            "min": 0,
            "orientation": "horizontal",
            "style": "IPY_MODEL_72fdffc7bb154e758211d419e94dc0bc",
            "value": 90447
          }
        },
        "ed0dba51f5d04a31876764c79eeea495": {
          "model_module": "@jupyter-widgets/controls",
          "model_name": "HTMLModel",
          "model_module_version": "1.5.0",
          "state": {
            "_dom_classes": [],
            "_model_module": "@jupyter-widgets/controls",
            "_model_module_version": "1.5.0",
            "_model_name": "HTMLModel",
            "_view_count": null,
            "_view_module": "@jupyter-widgets/controls",
            "_view_module_version": "1.5.0",
            "_view_name": "HTMLView",
            "description": "",
            "description_tooltip": null,
            "layout": "IPY_MODEL_d684e1622aff4ff183e5146083723c7d",
            "placeholder": "​",
            "style": "IPY_MODEL_b899ef7dcd344c948a58e41cd1b564c6",
            "value": " 90447/90447 [00:33&lt;00:00, 3541.06 examples/s]"
          }
        },
        "d67a0070791c4dc4b61bf5ef4aa05012": {
          "model_module": "@jupyter-widgets/base",
          "model_name": "LayoutModel",
          "model_module_version": "1.2.0",
          "state": {
            "_model_module": "@jupyter-widgets/base",
            "_model_module_version": "1.2.0",
            "_model_name": "LayoutModel",
            "_view_count": null,
            "_view_module": "@jupyter-widgets/base",
            "_view_module_version": "1.2.0",
            "_view_name": "LayoutView",
            "align_content": null,
            "align_items": null,
            "align_self": null,
            "border": null,
            "bottom": null,
            "display": null,
            "flex": null,
            "flex_flow": null,
            "grid_area": null,
            "grid_auto_columns": null,
            "grid_auto_flow": null,
            "grid_auto_rows": null,
            "grid_column": null,
            "grid_gap": null,
            "grid_row": null,
            "grid_template_areas": null,
            "grid_template_columns": null,
            "grid_template_rows": null,
            "height": null,
            "justify_content": null,
            "justify_items": null,
            "left": null,
            "margin": null,
            "max_height": null,
            "max_width": null,
            "min_height": null,
            "min_width": null,
            "object_fit": null,
            "object_position": null,
            "order": null,
            "overflow": null,
            "overflow_x": null,
            "overflow_y": null,
            "padding": null,
            "right": null,
            "top": null,
            "visibility": null,
            "width": null
          }
        },
        "f99ab1448de54e9bba3d6d5a5167cf5c": {
          "model_module": "@jupyter-widgets/base",
          "model_name": "LayoutModel",
          "model_module_version": "1.2.0",
          "state": {
            "_model_module": "@jupyter-widgets/base",
            "_model_module_version": "1.2.0",
            "_model_name": "LayoutModel",
            "_view_count": null,
            "_view_module": "@jupyter-widgets/base",
            "_view_module_version": "1.2.0",
            "_view_name": "LayoutView",
            "align_content": null,
            "align_items": null,
            "align_self": null,
            "border": null,
            "bottom": null,
            "display": null,
            "flex": null,
            "flex_flow": null,
            "grid_area": null,
            "grid_auto_columns": null,
            "grid_auto_flow": null,
            "grid_auto_rows": null,
            "grid_column": null,
            "grid_gap": null,
            "grid_row": null,
            "grid_template_areas": null,
            "grid_template_columns": null,
            "grid_template_rows": null,
            "height": null,
            "justify_content": null,
            "justify_items": null,
            "left": null,
            "margin": null,
            "max_height": null,
            "max_width": null,
            "min_height": null,
            "min_width": null,
            "object_fit": null,
            "object_position": null,
            "order": null,
            "overflow": null,
            "overflow_x": null,
            "overflow_y": null,
            "padding": null,
            "right": null,
            "top": null,
            "visibility": null,
            "width": null
          }
        },
        "bcdbe6f9c7d440ba9aaa69c18dd18531": {
          "model_module": "@jupyter-widgets/controls",
          "model_name": "DescriptionStyleModel",
          "model_module_version": "1.5.0",
          "state": {
            "_model_module": "@jupyter-widgets/controls",
            "_model_module_version": "1.5.0",
            "_model_name": "DescriptionStyleModel",
            "_view_count": null,
            "_view_module": "@jupyter-widgets/base",
            "_view_module_version": "1.2.0",
            "_view_name": "StyleView",
            "description_width": ""
          }
        },
        "ba194cf150bf4b0d890dc513ce2418a1": {
          "model_module": "@jupyter-widgets/base",
          "model_name": "LayoutModel",
          "model_module_version": "1.2.0",
          "state": {
            "_model_module": "@jupyter-widgets/base",
            "_model_module_version": "1.2.0",
            "_model_name": "LayoutModel",
            "_view_count": null,
            "_view_module": "@jupyter-widgets/base",
            "_view_module_version": "1.2.0",
            "_view_name": "LayoutView",
            "align_content": null,
            "align_items": null,
            "align_self": null,
            "border": null,
            "bottom": null,
            "display": null,
            "flex": null,
            "flex_flow": null,
            "grid_area": null,
            "grid_auto_columns": null,
            "grid_auto_flow": null,
            "grid_auto_rows": null,
            "grid_column": null,
            "grid_gap": null,
            "grid_row": null,
            "grid_template_areas": null,
            "grid_template_columns": null,
            "grid_template_rows": null,
            "height": null,
            "justify_content": null,
            "justify_items": null,
            "left": null,
            "margin": null,
            "max_height": null,
            "max_width": null,
            "min_height": null,
            "min_width": null,
            "object_fit": null,
            "object_position": null,
            "order": null,
            "overflow": null,
            "overflow_x": null,
            "overflow_y": null,
            "padding": null,
            "right": null,
            "top": null,
            "visibility": null,
            "width": null
          }
        },
        "72fdffc7bb154e758211d419e94dc0bc": {
          "model_module": "@jupyter-widgets/controls",
          "model_name": "ProgressStyleModel",
          "model_module_version": "1.5.0",
          "state": {
            "_model_module": "@jupyter-widgets/controls",
            "_model_module_version": "1.5.0",
            "_model_name": "ProgressStyleModel",
            "_view_count": null,
            "_view_module": "@jupyter-widgets/base",
            "_view_module_version": "1.2.0",
            "_view_name": "StyleView",
            "bar_color": null,
            "description_width": ""
          }
        },
        "d684e1622aff4ff183e5146083723c7d": {
          "model_module": "@jupyter-widgets/base",
          "model_name": "LayoutModel",
          "model_module_version": "1.2.0",
          "state": {
            "_model_module": "@jupyter-widgets/base",
            "_model_module_version": "1.2.0",
            "_model_name": "LayoutModel",
            "_view_count": null,
            "_view_module": "@jupyter-widgets/base",
            "_view_module_version": "1.2.0",
            "_view_name": "LayoutView",
            "align_content": null,
            "align_items": null,
            "align_self": null,
            "border": null,
            "bottom": null,
            "display": null,
            "flex": null,
            "flex_flow": null,
            "grid_area": null,
            "grid_auto_columns": null,
            "grid_auto_flow": null,
            "grid_auto_rows": null,
            "grid_column": null,
            "grid_gap": null,
            "grid_row": null,
            "grid_template_areas": null,
            "grid_template_columns": null,
            "grid_template_rows": null,
            "height": null,
            "justify_content": null,
            "justify_items": null,
            "left": null,
            "margin": null,
            "max_height": null,
            "max_width": null,
            "min_height": null,
            "min_width": null,
            "object_fit": null,
            "object_position": null,
            "order": null,
            "overflow": null,
            "overflow_x": null,
            "overflow_y": null,
            "padding": null,
            "right": null,
            "top": null,
            "visibility": null,
            "width": null
          }
        },
        "b899ef7dcd344c948a58e41cd1b564c6": {
          "model_module": "@jupyter-widgets/controls",
          "model_name": "DescriptionStyleModel",
          "model_module_version": "1.5.0",
          "state": {
            "_model_module": "@jupyter-widgets/controls",
            "_model_module_version": "1.5.0",
            "_model_name": "DescriptionStyleModel",
            "_view_count": null,
            "_view_module": "@jupyter-widgets/base",
            "_view_module_version": "1.2.0",
            "_view_name": "StyleView",
            "description_width": ""
          }
        },
        "1dba5153bd944c26a309ab3651c26af8": {
          "model_module": "@jupyter-widgets/controls",
          "model_name": "HBoxModel",
          "model_module_version": "1.5.0",
          "state": {
            "_dom_classes": [],
            "_model_module": "@jupyter-widgets/controls",
            "_model_module_version": "1.5.0",
            "_model_name": "HBoxModel",
            "_view_count": null,
            "_view_module": "@jupyter-widgets/controls",
            "_view_module_version": "1.5.0",
            "_view_name": "HBoxView",
            "box_style": "",
            "children": [
              "IPY_MODEL_2be22e892b6d4f5bb250361cb430309b",
              "IPY_MODEL_de57893e01c84971a2ad96b73c6fdd9c",
              "IPY_MODEL_7298caba7ec34424b3674495425bcf64"
            ],
            "layout": "IPY_MODEL_c2aa6ff51e7a4b88bddfbd8715b9a133"
          }
        },
        "2be22e892b6d4f5bb250361cb430309b": {
          "model_module": "@jupyter-widgets/controls",
          "model_name": "HTMLModel",
          "model_module_version": "1.5.0",
          "state": {
            "_dom_classes": [],
            "_model_module": "@jupyter-widgets/controls",
            "_model_module_version": "1.5.0",
            "_model_name": "HTMLModel",
            "_view_count": null,
            "_view_module": "@jupyter-widgets/controls",
            "_view_module_version": "1.5.0",
            "_view_name": "HTMLView",
            "description": "",
            "description_tooltip": null,
            "layout": "IPY_MODEL_906b9cb824f3423eb079bc7838ba48ab",
            "placeholder": "​",
            "style": "IPY_MODEL_7e435b34a0f149ef8d22be64d7f65a49",
            "value": "Generating validation split: 100%"
          }
        },
        "de57893e01c84971a2ad96b73c6fdd9c": {
          "model_module": "@jupyter-widgets/controls",
          "model_name": "FloatProgressModel",
          "model_module_version": "1.5.0",
          "state": {
            "_dom_classes": [],
            "_model_module": "@jupyter-widgets/controls",
            "_model_module_version": "1.5.0",
            "_model_name": "FloatProgressModel",
            "_view_count": null,
            "_view_module": "@jupyter-widgets/controls",
            "_view_module_version": "1.5.0",
            "_view_name": "ProgressView",
            "bar_style": "success",
            "description": "",
            "description_tooltip": null,
            "layout": "IPY_MODEL_3e54091bc4934558a352f7883885311e",
            "max": 7405,
            "min": 0,
            "orientation": "horizontal",
            "style": "IPY_MODEL_274e2788d7d64f9eab56df6bd19db17c",
            "value": 7405
          }
        },
        "7298caba7ec34424b3674495425bcf64": {
          "model_module": "@jupyter-widgets/controls",
          "model_name": "HTMLModel",
          "model_module_version": "1.5.0",
          "state": {
            "_dom_classes": [],
            "_model_module": "@jupyter-widgets/controls",
            "_model_module_version": "1.5.0",
            "_model_name": "HTMLModel",
            "_view_count": null,
            "_view_module": "@jupyter-widgets/controls",
            "_view_module_version": "1.5.0",
            "_view_name": "HTMLView",
            "description": "",
            "description_tooltip": null,
            "layout": "IPY_MODEL_f0eb3cc000df45a59da52e3f550c300e",
            "placeholder": "​",
            "style": "IPY_MODEL_48d52c7e8edb44d9b4562a5102cb6aa9",
            "value": " 7405/7405 [00:02&lt;00:00, 3652.11 examples/s]"
          }
        },
        "c2aa6ff51e7a4b88bddfbd8715b9a133": {
          "model_module": "@jupyter-widgets/base",
          "model_name": "LayoutModel",
          "model_module_version": "1.2.0",
          "state": {
            "_model_module": "@jupyter-widgets/base",
            "_model_module_version": "1.2.0",
            "_model_name": "LayoutModel",
            "_view_count": null,
            "_view_module": "@jupyter-widgets/base",
            "_view_module_version": "1.2.0",
            "_view_name": "LayoutView",
            "align_content": null,
            "align_items": null,
            "align_self": null,
            "border": null,
            "bottom": null,
            "display": null,
            "flex": null,
            "flex_flow": null,
            "grid_area": null,
            "grid_auto_columns": null,
            "grid_auto_flow": null,
            "grid_auto_rows": null,
            "grid_column": null,
            "grid_gap": null,
            "grid_row": null,
            "grid_template_areas": null,
            "grid_template_columns": null,
            "grid_template_rows": null,
            "height": null,
            "justify_content": null,
            "justify_items": null,
            "left": null,
            "margin": null,
            "max_height": null,
            "max_width": null,
            "min_height": null,
            "min_width": null,
            "object_fit": null,
            "object_position": null,
            "order": null,
            "overflow": null,
            "overflow_x": null,
            "overflow_y": null,
            "padding": null,
            "right": null,
            "top": null,
            "visibility": null,
            "width": null
          }
        },
        "906b9cb824f3423eb079bc7838ba48ab": {
          "model_module": "@jupyter-widgets/base",
          "model_name": "LayoutModel",
          "model_module_version": "1.2.0",
          "state": {
            "_model_module": "@jupyter-widgets/base",
            "_model_module_version": "1.2.0",
            "_model_name": "LayoutModel",
            "_view_count": null,
            "_view_module": "@jupyter-widgets/base",
            "_view_module_version": "1.2.0",
            "_view_name": "LayoutView",
            "align_content": null,
            "align_items": null,
            "align_self": null,
            "border": null,
            "bottom": null,
            "display": null,
            "flex": null,
            "flex_flow": null,
            "grid_area": null,
            "grid_auto_columns": null,
            "grid_auto_flow": null,
            "grid_auto_rows": null,
            "grid_column": null,
            "grid_gap": null,
            "grid_row": null,
            "grid_template_areas": null,
            "grid_template_columns": null,
            "grid_template_rows": null,
            "height": null,
            "justify_content": null,
            "justify_items": null,
            "left": null,
            "margin": null,
            "max_height": null,
            "max_width": null,
            "min_height": null,
            "min_width": null,
            "object_fit": null,
            "object_position": null,
            "order": null,
            "overflow": null,
            "overflow_x": null,
            "overflow_y": null,
            "padding": null,
            "right": null,
            "top": null,
            "visibility": null,
            "width": null
          }
        },
        "7e435b34a0f149ef8d22be64d7f65a49": {
          "model_module": "@jupyter-widgets/controls",
          "model_name": "DescriptionStyleModel",
          "model_module_version": "1.5.0",
          "state": {
            "_model_module": "@jupyter-widgets/controls",
            "_model_module_version": "1.5.0",
            "_model_name": "DescriptionStyleModel",
            "_view_count": null,
            "_view_module": "@jupyter-widgets/base",
            "_view_module_version": "1.2.0",
            "_view_name": "StyleView",
            "description_width": ""
          }
        },
        "3e54091bc4934558a352f7883885311e": {
          "model_module": "@jupyter-widgets/base",
          "model_name": "LayoutModel",
          "model_module_version": "1.2.0",
          "state": {
            "_model_module": "@jupyter-widgets/base",
            "_model_module_version": "1.2.0",
            "_model_name": "LayoutModel",
            "_view_count": null,
            "_view_module": "@jupyter-widgets/base",
            "_view_module_version": "1.2.0",
            "_view_name": "LayoutView",
            "align_content": null,
            "align_items": null,
            "align_self": null,
            "border": null,
            "bottom": null,
            "display": null,
            "flex": null,
            "flex_flow": null,
            "grid_area": null,
            "grid_auto_columns": null,
            "grid_auto_flow": null,
            "grid_auto_rows": null,
            "grid_column": null,
            "grid_gap": null,
            "grid_row": null,
            "grid_template_areas": null,
            "grid_template_columns": null,
            "grid_template_rows": null,
            "height": null,
            "justify_content": null,
            "justify_items": null,
            "left": null,
            "margin": null,
            "max_height": null,
            "max_width": null,
            "min_height": null,
            "min_width": null,
            "object_fit": null,
            "object_position": null,
            "order": null,
            "overflow": null,
            "overflow_x": null,
            "overflow_y": null,
            "padding": null,
            "right": null,
            "top": null,
            "visibility": null,
            "width": null
          }
        },
        "274e2788d7d64f9eab56df6bd19db17c": {
          "model_module": "@jupyter-widgets/controls",
          "model_name": "ProgressStyleModel",
          "model_module_version": "1.5.0",
          "state": {
            "_model_module": "@jupyter-widgets/controls",
            "_model_module_version": "1.5.0",
            "_model_name": "ProgressStyleModel",
            "_view_count": null,
            "_view_module": "@jupyter-widgets/base",
            "_view_module_version": "1.2.0",
            "_view_name": "StyleView",
            "bar_color": null,
            "description_width": ""
          }
        },
        "f0eb3cc000df45a59da52e3f550c300e": {
          "model_module": "@jupyter-widgets/base",
          "model_name": "LayoutModel",
          "model_module_version": "1.2.0",
          "state": {
            "_model_module": "@jupyter-widgets/base",
            "_model_module_version": "1.2.0",
            "_model_name": "LayoutModel",
            "_view_count": null,
            "_view_module": "@jupyter-widgets/base",
            "_view_module_version": "1.2.0",
            "_view_name": "LayoutView",
            "align_content": null,
            "align_items": null,
            "align_self": null,
            "border": null,
            "bottom": null,
            "display": null,
            "flex": null,
            "flex_flow": null,
            "grid_area": null,
            "grid_auto_columns": null,
            "grid_auto_flow": null,
            "grid_auto_rows": null,
            "grid_column": null,
            "grid_gap": null,
            "grid_row": null,
            "grid_template_areas": null,
            "grid_template_columns": null,
            "grid_template_rows": null,
            "height": null,
            "justify_content": null,
            "justify_items": null,
            "left": null,
            "margin": null,
            "max_height": null,
            "max_width": null,
            "min_height": null,
            "min_width": null,
            "object_fit": null,
            "object_position": null,
            "order": null,
            "overflow": null,
            "overflow_x": null,
            "overflow_y": null,
            "padding": null,
            "right": null,
            "top": null,
            "visibility": null,
            "width": null
          }
        },
        "48d52c7e8edb44d9b4562a5102cb6aa9": {
          "model_module": "@jupyter-widgets/controls",
          "model_name": "DescriptionStyleModel",
          "model_module_version": "1.5.0",
          "state": {
            "_model_module": "@jupyter-widgets/controls",
            "_model_module_version": "1.5.0",
            "_model_name": "DescriptionStyleModel",
            "_view_count": null,
            "_view_module": "@jupyter-widgets/base",
            "_view_module_version": "1.2.0",
            "_view_name": "StyleView",
            "description_width": ""
          }
        },
        "0cbe9662432942399cbb2ba0d9f10eb3": {
          "model_module": "@jupyter-widgets/controls",
          "model_name": "HBoxModel",
          "model_module_version": "1.5.0",
          "state": {
            "_dom_classes": [],
            "_model_module": "@jupyter-widgets/controls",
            "_model_module_version": "1.5.0",
            "_model_name": "HBoxModel",
            "_view_count": null,
            "_view_module": "@jupyter-widgets/controls",
            "_view_module_version": "1.5.0",
            "_view_name": "HBoxView",
            "box_style": "",
            "children": [
              "IPY_MODEL_12a802bd93f44fbc95ffad4c2dc9bfdc",
              "IPY_MODEL_474064b7c2e44ed0a0225fa5c1c880ed",
              "IPY_MODEL_2c59e4664a30417b8372100df742f1b8"
            ],
            "layout": "IPY_MODEL_e630bf72d15943389ddf3537f124d471"
          }
        },
        "12a802bd93f44fbc95ffad4c2dc9bfdc": {
          "model_module": "@jupyter-widgets/controls",
          "model_name": "HTMLModel",
          "model_module_version": "1.5.0",
          "state": {
            "_dom_classes": [],
            "_model_module": "@jupyter-widgets/controls",
            "_model_module_version": "1.5.0",
            "_model_name": "HTMLModel",
            "_view_count": null,
            "_view_module": "@jupyter-widgets/controls",
            "_view_module_version": "1.5.0",
            "_view_name": "HTMLView",
            "description": "",
            "description_tooltip": null,
            "layout": "IPY_MODEL_dfbf873ed74d469dbaadb4bc388c2dae",
            "placeholder": "​",
            "style": "IPY_MODEL_f6efe56e95be42bdb70555fdb2c91a6d",
            "value": "Generating test split: 100%"
          }
        },
        "474064b7c2e44ed0a0225fa5c1c880ed": {
          "model_module": "@jupyter-widgets/controls",
          "model_name": "FloatProgressModel",
          "model_module_version": "1.5.0",
          "state": {
            "_dom_classes": [],
            "_model_module": "@jupyter-widgets/controls",
            "_model_module_version": "1.5.0",
            "_model_name": "FloatProgressModel",
            "_view_count": null,
            "_view_module": "@jupyter-widgets/controls",
            "_view_module_version": "1.5.0",
            "_view_name": "ProgressView",
            "bar_style": "success",
            "description": "",
            "description_tooltip": null,
            "layout": "IPY_MODEL_4fa7a5f81a33421c87945fc5039c0ea3",
            "max": 7405,
            "min": 0,
            "orientation": "horizontal",
            "style": "IPY_MODEL_30c2b7de40824074ba45f335ea528755",
            "value": 7405
          }
        },
        "2c59e4664a30417b8372100df742f1b8": {
          "model_module": "@jupyter-widgets/controls",
          "model_name": "HTMLModel",
          "model_module_version": "1.5.0",
          "state": {
            "_dom_classes": [],
            "_model_module": "@jupyter-widgets/controls",
            "_model_module_version": "1.5.0",
            "_model_name": "HTMLModel",
            "_view_count": null,
            "_view_module": "@jupyter-widgets/controls",
            "_view_module_version": "1.5.0",
            "_view_name": "HTMLView",
            "description": "",
            "description_tooltip": null,
            "layout": "IPY_MODEL_c27938e5c8664987ba0fbaa9b6fcaca1",
            "placeholder": "​",
            "style": "IPY_MODEL_0336abf83e2344c4b9956acb1c861bda",
            "value": " 7405/7405 [00:02&lt;00:00, 4047.77 examples/s]"
          }
        },
        "e630bf72d15943389ddf3537f124d471": {
          "model_module": "@jupyter-widgets/base",
          "model_name": "LayoutModel",
          "model_module_version": "1.2.0",
          "state": {
            "_model_module": "@jupyter-widgets/base",
            "_model_module_version": "1.2.0",
            "_model_name": "LayoutModel",
            "_view_count": null,
            "_view_module": "@jupyter-widgets/base",
            "_view_module_version": "1.2.0",
            "_view_name": "LayoutView",
            "align_content": null,
            "align_items": null,
            "align_self": null,
            "border": null,
            "bottom": null,
            "display": null,
            "flex": null,
            "flex_flow": null,
            "grid_area": null,
            "grid_auto_columns": null,
            "grid_auto_flow": null,
            "grid_auto_rows": null,
            "grid_column": null,
            "grid_gap": null,
            "grid_row": null,
            "grid_template_areas": null,
            "grid_template_columns": null,
            "grid_template_rows": null,
            "height": null,
            "justify_content": null,
            "justify_items": null,
            "left": null,
            "margin": null,
            "max_height": null,
            "max_width": null,
            "min_height": null,
            "min_width": null,
            "object_fit": null,
            "object_position": null,
            "order": null,
            "overflow": null,
            "overflow_x": null,
            "overflow_y": null,
            "padding": null,
            "right": null,
            "top": null,
            "visibility": null,
            "width": null
          }
        },
        "dfbf873ed74d469dbaadb4bc388c2dae": {
          "model_module": "@jupyter-widgets/base",
          "model_name": "LayoutModel",
          "model_module_version": "1.2.0",
          "state": {
            "_model_module": "@jupyter-widgets/base",
            "_model_module_version": "1.2.0",
            "_model_name": "LayoutModel",
            "_view_count": null,
            "_view_module": "@jupyter-widgets/base",
            "_view_module_version": "1.2.0",
            "_view_name": "LayoutView",
            "align_content": null,
            "align_items": null,
            "align_self": null,
            "border": null,
            "bottom": null,
            "display": null,
            "flex": null,
            "flex_flow": null,
            "grid_area": null,
            "grid_auto_columns": null,
            "grid_auto_flow": null,
            "grid_auto_rows": null,
            "grid_column": null,
            "grid_gap": null,
            "grid_row": null,
            "grid_template_areas": null,
            "grid_template_columns": null,
            "grid_template_rows": null,
            "height": null,
            "justify_content": null,
            "justify_items": null,
            "left": null,
            "margin": null,
            "max_height": null,
            "max_width": null,
            "min_height": null,
            "min_width": null,
            "object_fit": null,
            "object_position": null,
            "order": null,
            "overflow": null,
            "overflow_x": null,
            "overflow_y": null,
            "padding": null,
            "right": null,
            "top": null,
            "visibility": null,
            "width": null
          }
        },
        "f6efe56e95be42bdb70555fdb2c91a6d": {
          "model_module": "@jupyter-widgets/controls",
          "model_name": "DescriptionStyleModel",
          "model_module_version": "1.5.0",
          "state": {
            "_model_module": "@jupyter-widgets/controls",
            "_model_module_version": "1.5.0",
            "_model_name": "DescriptionStyleModel",
            "_view_count": null,
            "_view_module": "@jupyter-widgets/base",
            "_view_module_version": "1.2.0",
            "_view_name": "StyleView",
            "description_width": ""
          }
        },
        "4fa7a5f81a33421c87945fc5039c0ea3": {
          "model_module": "@jupyter-widgets/base",
          "model_name": "LayoutModel",
          "model_module_version": "1.2.0",
          "state": {
            "_model_module": "@jupyter-widgets/base",
            "_model_module_version": "1.2.0",
            "_model_name": "LayoutModel",
            "_view_count": null,
            "_view_module": "@jupyter-widgets/base",
            "_view_module_version": "1.2.0",
            "_view_name": "LayoutView",
            "align_content": null,
            "align_items": null,
            "align_self": null,
            "border": null,
            "bottom": null,
            "display": null,
            "flex": null,
            "flex_flow": null,
            "grid_area": null,
            "grid_auto_columns": null,
            "grid_auto_flow": null,
            "grid_auto_rows": null,
            "grid_column": null,
            "grid_gap": null,
            "grid_row": null,
            "grid_template_areas": null,
            "grid_template_columns": null,
            "grid_template_rows": null,
            "height": null,
            "justify_content": null,
            "justify_items": null,
            "left": null,
            "margin": null,
            "max_height": null,
            "max_width": null,
            "min_height": null,
            "min_width": null,
            "object_fit": null,
            "object_position": null,
            "order": null,
            "overflow": null,
            "overflow_x": null,
            "overflow_y": null,
            "padding": null,
            "right": null,
            "top": null,
            "visibility": null,
            "width": null
          }
        },
        "30c2b7de40824074ba45f335ea528755": {
          "model_module": "@jupyter-widgets/controls",
          "model_name": "ProgressStyleModel",
          "model_module_version": "1.5.0",
          "state": {
            "_model_module": "@jupyter-widgets/controls",
            "_model_module_version": "1.5.0",
            "_model_name": "ProgressStyleModel",
            "_view_count": null,
            "_view_module": "@jupyter-widgets/base",
            "_view_module_version": "1.2.0",
            "_view_name": "StyleView",
            "bar_color": null,
            "description_width": ""
          }
        },
        "c27938e5c8664987ba0fbaa9b6fcaca1": {
          "model_module": "@jupyter-widgets/base",
          "model_name": "LayoutModel",
          "model_module_version": "1.2.0",
          "state": {
            "_model_module": "@jupyter-widgets/base",
            "_model_module_version": "1.2.0",
            "_model_name": "LayoutModel",
            "_view_count": null,
            "_view_module": "@jupyter-widgets/base",
            "_view_module_version": "1.2.0",
            "_view_name": "LayoutView",
            "align_content": null,
            "align_items": null,
            "align_self": null,
            "border": null,
            "bottom": null,
            "display": null,
            "flex": null,
            "flex_flow": null,
            "grid_area": null,
            "grid_auto_columns": null,
            "grid_auto_flow": null,
            "grid_auto_rows": null,
            "grid_column": null,
            "grid_gap": null,
            "grid_row": null,
            "grid_template_areas": null,
            "grid_template_columns": null,
            "grid_template_rows": null,
            "height": null,
            "justify_content": null,
            "justify_items": null,
            "left": null,
            "margin": null,
            "max_height": null,
            "max_width": null,
            "min_height": null,
            "min_width": null,
            "object_fit": null,
            "object_position": null,
            "order": null,
            "overflow": null,
            "overflow_x": null,
            "overflow_y": null,
            "padding": null,
            "right": null,
            "top": null,
            "visibility": null,
            "width": null
          }
        },
        "0336abf83e2344c4b9956acb1c861bda": {
          "model_module": "@jupyter-widgets/controls",
          "model_name": "DescriptionStyleModel",
          "model_module_version": "1.5.0",
          "state": {
            "_model_module": "@jupyter-widgets/controls",
            "_model_module_version": "1.5.0",
            "_model_name": "DescriptionStyleModel",
            "_view_count": null,
            "_view_module": "@jupyter-widgets/base",
            "_view_module_version": "1.2.0",
            "_view_name": "StyleView",
            "description_width": ""
          }
        }
      }
    }
  },
  "nbformat": 4,
  "nbformat_minor": 0
}